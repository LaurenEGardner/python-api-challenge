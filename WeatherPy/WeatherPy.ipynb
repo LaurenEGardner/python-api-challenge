{
 "cells": [
  {
   "cell_type": "markdown",
   "metadata": {},
   "source": [
    "# WeatherPy\n",
    "----\n",
    "\n",
    "#### Note\n",
    "* Instructions have been included for each segment. You do not have to follow them exactly, but they are included to help you think through the steps."
   ]
  },
  {
   "cell_type": "code",
   "execution_count": 6,
   "metadata": {
    "scrolled": true
   },
   "outputs": [],
   "source": [
    "# Dependencies and Setup\n",
    "import matplotlib.pyplot as plt\n",
    "import pandas as pd\n",
    "import numpy as np\n",
    "import requests\n",
    "import time\n",
    "from scipy.stats import linregress\n",
    "from pprint import pprint\n",
    "\n",
    "# Import API key\n",
    "from api_keys import weather_api_key\n",
    "\n",
    "# Incorporated citipy to determine city based on latitude and longitude\n",
    "from citipy import citipy\n",
    "\n",
    "# Output File (CSV)\n",
    "output_data_file = \"output_data/cities.csv\"\n",
    "\n",
    "# Range of latitudes and longitudes\n",
    "lat_range = (-90, 90)\n",
    "lng_range = (-180, 180)"
   ]
  },
  {
   "cell_type": "markdown",
   "metadata": {},
   "source": [
    "## Generate Cities List"
   ]
  },
  {
   "cell_type": "code",
   "execution_count": 7,
   "metadata": {},
   "outputs": [
    {
     "data": {
      "text/plain": [
       "638"
      ]
     },
     "execution_count": 7,
     "metadata": {},
     "output_type": "execute_result"
    }
   ],
   "source": [
    "# List for holding lat_lngs and cities\n",
    "lat_lngs = []\n",
    "cities = []\n",
    "\n",
    "# Create a set of random lat and lng combinations\n",
    "lats = np.random.uniform(lat_range[0], lat_range[1], size=1500)\n",
    "lngs = np.random.uniform(lng_range[0], lng_range[1], size=1500)\n",
    "lat_lngs = zip(lats, lngs)\n",
    "\n",
    "# Identify nearest city for each lat, lng combination\n",
    "for lat_lng in lat_lngs:\n",
    "    city = citipy.nearest_city(lat_lng[0], lat_lng[1]).city_name\n",
    "    \n",
    "    # If the city is unique, then add it to a our cities list\n",
    "    if city not in cities:\n",
    "        cities.append(city)\n",
    "\n",
    "# Print the city count to confirm sufficient count\n",
    "len(cities)"
   ]
  },
  {
   "cell_type": "markdown",
   "metadata": {},
   "source": [
    "### Perform API Calls\n",
    "* Perform a weather check on each city using a series of successive API calls.\n",
    "* Include a print log of each city as it'sbeing processed (with the city number and city name).\n"
   ]
  },
  {
   "cell_type": "code",
   "execution_count": 10,
   "metadata": {},
   "outputs": [
    {
     "name": "stdout",
     "output_type": "stream",
     "text": [
      "{'base': 'stations',\n",
      " 'clouds': {'all': 99},\n",
      " 'cod': 200,\n",
      " 'coord': {'lat': 45.52, 'lon': -122.68},\n",
      " 'dt': 1604364943,\n",
      " 'id': 5746545,\n",
      " 'main': {'feels_like': 58.15,\n",
      "          'humidity': 65,\n",
      "          'pressure': 1016,\n",
      "          'temp': 59.34,\n",
      "          'temp_max': 62.01,\n",
      "          'temp_min': 55.99},\n",
      " 'name': 'Portland',\n",
      " 'sys': {'country': 'US',\n",
      "         'id': 2008548,\n",
      "         'sunrise': 1604328748,\n",
      "         'sunset': 1604364960,\n",
      "         'type': 3},\n",
      " 'timezone': -28800,\n",
      " 'visibility': 10000,\n",
      " 'weather': [{'description': 'overcast clouds',\n",
      "              'icon': '04d',\n",
      "              'id': 804,\n",
      "              'main': 'Clouds'}],\n",
      " 'wind': {'deg': 236, 'speed': 1.14}}\n"
     ]
    }
   ],
   "source": [
    "query_url = \"http://api.openweathermap.org/data/2.5/weather?appid=ff12f134f1a59b9bab3ac57c83d90f2b&units=imperial&q=portland\"\n",
    "weather_response = requests.get(query_url).json()\n",
    "pprint(weather_response)"
   ]
  },
  {
   "cell_type": "code",
   "execution_count": 11,
   "metadata": {
    "scrolled": false
   },
   "outputs": [
    {
     "name": "stdout",
     "output_type": "stream",
     "text": [
      "Now pulling data for #1, lompoc\n",
      "Now pulling data for #2, hermanus\n",
      "Now pulling data for #3, punta arenas\n",
      "Now pulling data for #4, naryan-mar\n",
      "Now pulling data for #5, puerto ayora\n",
      "Now pulling data for #6, mar del plata\n",
      "Now pulling data for #7, bredasdorp\n",
      "Now pulling data for #8, bambous virieux\n",
      "Now pulling data for #9, ribeira grande\n",
      "Now pulling data for #10, los llanos de aridane\n",
      "Now pulling data for #11, tasiilaq\n",
      "Now pulling data for #12, mehamn\n",
      "Now pulling data for #13, hambantota\n",
      "Now pulling data for #14, dikson\n",
      "Now pulling data for #15, busselton\n",
      "Now pulling data for #16, mataura\n",
      "Now pulling data for #17, kresttsy\n",
      "Now pulling data for #18, arraial do cabo\n",
      "Now pulling data for #19, albany\n",
      "unable to process #20, mys shmidta\n",
      "Now pulling data for #21, cidreira\n",
      "Now pulling data for #22, naliya\n",
      "Now pulling data for #23, ahipara\n",
      "Now pulling data for #24, butaritari\n",
      "Now pulling data for #25, tiksi\n",
      "Now pulling data for #26, kapaa\n",
      "Now pulling data for #27, marsh harbour\n",
      "unable to process #28, tuggurt\n",
      "Now pulling data for #29, high level\n",
      "Now pulling data for #30, saskylakh\n",
      "unable to process #31, taolanaro\n",
      "unable to process #32, bargal\n",
      "unable to process #33, barentsburg\n",
      "Now pulling data for #34, atuona\n",
      "unable to process #35, ondorhaan\n",
      "Now pulling data for #36, kirensk\n",
      "Now pulling data for #37, hobart\n",
      "Now pulling data for #38, rikitea\n",
      "Now pulling data for #39, natitingou\n",
      "Now pulling data for #40, new norfolk\n",
      "Now pulling data for #41, hede\n",
      "Now pulling data for #42, gamba\n",
      "Now pulling data for #43, esmeraldas\n",
      "unable to process #44, belushya guba\n",
      "Now pulling data for #45, ushuaia\n",
      "Now pulling data for #46, bilibino\n",
      "Now pulling data for #47, kruisfontein\n",
      "Now pulling data for #48, avarua\n",
      "Now pulling data for #49, saint george\n",
      "Now pulling data for #50, khatanga\n",
      "Now pulling data for #51, sao filipe\n",
      "Now pulling data for #52, yatou\n",
      "Now pulling data for #53, bluff\n",
      "Now pulling data for #54, beyneu\n",
      "Now pulling data for #55, yaan\n",
      "Now pulling data for #56, georgetown\n",
      "Now pulling data for #57, achinsk\n",
      "Now pulling data for #58, jamestown\n",
      "Now pulling data for #59, kodiak\n",
      "Now pulling data for #60, wairoa\n",
      "Now pulling data for #61, tuatapere\n",
      "Now pulling data for #62, poum\n",
      "Now pulling data for #63, seoul\n",
      "Now pulling data for #64, yellowknife\n",
      "Now pulling data for #65, kaitangata\n",
      "Now pulling data for #66, cruzeiro do sul\n",
      "Now pulling data for #67, la macarena\n",
      "Now pulling data for #68, tucuman\n",
      "Now pulling data for #69, odesskoye\n",
      "Now pulling data for #70, port alfred\n",
      "Now pulling data for #71, bathsheba\n",
      "Now pulling data for #72, mahebourg\n",
      "Now pulling data for #73, broken hill\n",
      "Now pulling data for #74, tuktoyaktuk\n",
      "unable to process #75, alotau\n",
      "Now pulling data for #76, daye\n",
      "unable to process #77, amderma\n",
      "Now pulling data for #78, gushikawa\n",
      "Now pulling data for #79, chau doc\n",
      "Now pulling data for #80, jerome\n",
      "unable to process #81, macaboboni\n",
      "unable to process #82, illoqqortoormiut\n",
      "Now pulling data for #83, east london\n",
      "Now pulling data for #84, manokwari\n",
      "Now pulling data for #85, carnarvon\n",
      "Now pulling data for #86, gat\n",
      "Now pulling data for #87, la ronge\n",
      "Now pulling data for #88, port elizabeth\n",
      "unable to process #89, bacuit\n",
      "Now pulling data for #90, miguel auza\n",
      "Now pulling data for #91, loveland\n",
      "Now pulling data for #92, hithadhoo\n",
      "Now pulling data for #93, coihaique\n",
      "Now pulling data for #94, ostrovnoy\n",
      "Now pulling data for #95, limbang\n",
      "Now pulling data for #96, phalodi\n",
      "Now pulling data for #97, bengkulu\n",
      "Now pulling data for #98, maymyo\n",
      "Now pulling data for #99, tarragona\n",
      "Now pulling data for #100, ilula\n",
      "Now pulling data for #101, pacific grove\n",
      "Now pulling data for #102, college\n",
      "Now pulling data for #103, mogadishu\n",
      "Now pulling data for #104, martapura\n",
      "Now pulling data for #105, torbay\n",
      "Now pulling data for #106, san rafael\n",
      "Now pulling data for #107, piacabucu\n",
      "Now pulling data for #108, vaini\n",
      "Now pulling data for #109, cape town\n",
      "Now pulling data for #110, lorengau\n",
      "Now pulling data for #111, resistencia\n",
      "Now pulling data for #112, ambunti\n",
      "Now pulling data for #113, soe\n",
      "unable to process #114, meyungs\n",
      "Now pulling data for #115, atikokan\n",
      "Now pulling data for #116, palaia fokaia\n",
      "Now pulling data for #117, upernavik\n",
      "Now pulling data for #118, shingu\n",
      "Now pulling data for #119, qaanaaq\n",
      "Now pulling data for #120, byron bay\n",
      "Now pulling data for #121, sagone\n",
      "Now pulling data for #122, dingle\n",
      "Now pulling data for #123, barrow\n",
      "Now pulling data for #124, esperance\n",
      "Now pulling data for #125, nikolskoye\n",
      "unable to process #126, marcona\n",
      "Now pulling data for #127, yarkovo\n",
      "Now pulling data for #128, cameta\n",
      "Now pulling data for #129, novopokrovka\n",
      "Now pulling data for #130, parati\n",
      "Now pulling data for #131, severo-kurilsk\n",
      "Now pulling data for #132, pontes e lacerda\n",
      "Now pulling data for #133, faya\n",
      "Now pulling data for #134, sitka\n",
      "Now pulling data for #135, whitehorse\n",
      "Now pulling data for #136, castro\n",
      "Now pulling data for #137, bjornevatn\n",
      "Now pulling data for #138, pangkalanbuun\n",
      "Now pulling data for #139, bethel\n",
      "Now pulling data for #140, zharkent\n",
      "Now pulling data for #141, clyde river\n",
      "Now pulling data for #142, vao\n",
      "Now pulling data for #143, ponta do sol\n",
      "Now pulling data for #144, chuy\n",
      "Now pulling data for #145, luderitz\n",
      "Now pulling data for #146, marquette\n",
      "Now pulling data for #147, thompson\n",
      "Now pulling data for #148, solnechnyy\n",
      "Now pulling data for #149, port macquarie\n",
      "Now pulling data for #150, biu\n",
      "Now pulling data for #151, lebu\n",
      "unable to process #152, nizhneyansk\n",
      "Now pulling data for #153, hobyo\n",
      "Now pulling data for #154, vestmannaeyjar\n",
      "Now pulling data for #155, victoria\n",
      "Now pulling data for #156, aklavik\n",
      "Now pulling data for #157, itoman\n",
      "Now pulling data for #158, sur\n",
      "Now pulling data for #159, lata\n",
      "Now pulling data for #160, zhuhai\n",
      "unable to process #161, tsihombe\n",
      "Now pulling data for #162, te anau\n",
      "Now pulling data for #163, saint-philippe\n",
      "Now pulling data for #164, san jose\n",
      "Now pulling data for #165, ornes\n",
      "Now pulling data for #166, leningradskiy\n",
      "Now pulling data for #167, vanimo\n",
      "Now pulling data for #168, dengfeng\n",
      "Now pulling data for #169, talnakh\n",
      "Now pulling data for #170, zirandaro\n",
      "Now pulling data for #171, maningrida\n",
      "Now pulling data for #172, makakilo city\n",
      "Now pulling data for #173, winnemucca\n",
      "Now pulling data for #174, tyret pervaya\n",
      "unable to process #175, zolotinka\n",
      "Now pulling data for #176, mattru\n",
      "Now pulling data for #177, omboue\n",
      "Now pulling data for #178, sambava\n",
      "Now pulling data for #179, plastun\n",
      "Now pulling data for #180, naze\n",
      "Now pulling data for #181, sangar\n",
      "Now pulling data for #182, coquimbo\n",
      "Now pulling data for #183, arman\n",
      "Now pulling data for #184, chokurdakh\n",
      "Now pulling data for #185, mareeba\n",
      "Now pulling data for #186, port hedland\n",
      "unable to process #187, cockburn harbour\n",
      "Now pulling data for #188, hofn\n",
      "Now pulling data for #189, krasnoarmeysk\n",
      "Now pulling data for #190, ivanivka\n",
      "Now pulling data for #191, kachug\n",
      "Now pulling data for #192, boyolangu\n",
      "Now pulling data for #193, sorong\n",
      "Now pulling data for #194, cherskiy\n",
      "Now pulling data for #195, veraval\n",
      "Now pulling data for #196, kurilsk\n",
      "Now pulling data for #197, mae sai\n",
      "Now pulling data for #198, kahului\n",
      "Now pulling data for #199, hilo\n",
      "Now pulling data for #200, umm lajj\n",
      "Now pulling data for #201, vila franca do campo\n",
      "Now pulling data for #202, peniche\n",
      "Now pulling data for #203, aleksinac\n",
      "Now pulling data for #204, grafton\n",
      "Now pulling data for #205, komsomolskiy\n",
      "Now pulling data for #206, harper\n",
      "Now pulling data for #207, boca do acre\n",
      "unable to process #208, lhuntshi\n",
      "Now pulling data for #209, phuket\n",
      "Now pulling data for #210, mount gambier\n",
      "Now pulling data for #211, norman wells\n",
      "Now pulling data for #212, tura\n",
      "Now pulling data for #213, klaksvik\n",
      "Now pulling data for #214, santa cruz\n",
      "Now pulling data for #215, nizwa\n",
      "Now pulling data for #216, paamiut\n",
      "Now pulling data for #217, tornio\n",
      "Now pulling data for #218, platanos\n",
      "unable to process #219, samusu\n",
      "Now pulling data for #220, shimoda\n",
      "Now pulling data for #221, puerto quijarro\n",
      "Now pulling data for #222, do gonbadan\n",
      "Now pulling data for #223, ville-marie\n",
      "Now pulling data for #224, namibe\n",
      "Now pulling data for #225, chauny\n",
      "Now pulling data for #226, nantucket\n",
      "Now pulling data for #227, ketchikan\n",
      "Now pulling data for #228, vardo\n",
      "Now pulling data for #229, vologda\n",
      "Now pulling data for #230, broome\n"
     ]
    },
    {
     "name": "stdout",
     "output_type": "stream",
     "text": [
      "Now pulling data for #231, tautira\n",
      "Now pulling data for #232, bulgan\n",
      "Now pulling data for #233, forrest city\n",
      "Now pulling data for #234, shache\n",
      "Now pulling data for #235, soure\n",
      "Now pulling data for #236, marovoay\n",
      "Now pulling data for #237, ginir\n",
      "Now pulling data for #238, hukeri\n",
      "Now pulling data for #239, waingapu\n",
      "Now pulling data for #240, berlevag\n",
      "Now pulling data for #241, harer\n",
      "Now pulling data for #242, axim\n",
      "Now pulling data for #243, kerema\n",
      "Now pulling data for #244, cangucu\n",
      "unable to process #245, dalinghe\n",
      "Now pulling data for #246, constitucion\n",
      "Now pulling data for #247, kavaratti\n",
      "Now pulling data for #248, salalah\n",
      "Now pulling data for #249, pevek\n",
      "Now pulling data for #250, cap malheureux\n",
      "Now pulling data for #251, la orilla\n",
      "Now pulling data for #252, grand gaube\n",
      "Now pulling data for #253, tahoua\n",
      "unable to process #254, paradwip\n",
      "Now pulling data for #255, havre-saint-pierre\n",
      "Now pulling data for #256, mandalgovi\n",
      "Now pulling data for #257, hami\n",
      "unable to process #258, rungata\n",
      "Now pulling data for #259, baghdad\n",
      "Now pulling data for #260, roald\n",
      "Now pulling data for #261, iranshahr\n",
      "Now pulling data for #262, goulburn\n",
      "Now pulling data for #263, westport\n",
      "Now pulling data for #264, mahanje\n",
      "Now pulling data for #265, riyadh\n",
      "Now pulling data for #266, japura\n",
      "Now pulling data for #267, kozhva\n",
      "Now pulling data for #268, olga\n",
      "Now pulling data for #269, aswan\n",
      "Now pulling data for #270, shieli\n",
      "Now pulling data for #271, anadyr\n",
      "Now pulling data for #272, makhinjauri\n",
      "Now pulling data for #273, rzhyshchiv\n",
      "Now pulling data for #274, tual\n",
      "Now pulling data for #275, ancud\n",
      "Now pulling data for #276, makokou\n",
      "Now pulling data for #277, yima\n",
      "Now pulling data for #278, fukue\n",
      "Now pulling data for #279, nanortalik\n",
      "Now pulling data for #280, kilakarai\n",
      "Now pulling data for #281, warsaw\n",
      "Now pulling data for #282, kalmunai\n",
      "Now pulling data for #283, korla\n",
      "Now pulling data for #284, khash\n",
      "Now pulling data for #285, makat\n",
      "Now pulling data for #286, sunland park\n",
      "unable to process #287, attawapiskat\n",
      "Now pulling data for #288, wageningen\n",
      "Now pulling data for #289, cayenne\n",
      "Now pulling data for #290, longyearbyen\n",
      "Now pulling data for #291, souillac\n",
      "unable to process #292, sentyabrskiy\n",
      "Now pulling data for #293, hovd\n",
      "Now pulling data for #294, sulangan\n",
      "Now pulling data for #295, ponta delgada\n",
      "Now pulling data for #296, lavrentiya\n",
      "Now pulling data for #297, tilichiki\n",
      "Now pulling data for #298, xichang\n",
      "Now pulling data for #299, polson\n",
      "Now pulling data for #300, bukoba\n",
      "Now pulling data for #301, auki\n",
      "Now pulling data for #302, nha trang\n",
      "Now pulling data for #303, kingston\n",
      "unable to process #304, aflu\n",
      "Now pulling data for #305, san patricio\n",
      "Now pulling data for #306, fuling\n",
      "Now pulling data for #307, mastic beach\n",
      "Now pulling data for #308, batagay\n",
      "Now pulling data for #309, katsuura\n",
      "Now pulling data for #310, portland\n",
      "Now pulling data for #311, fortuna\n",
      "Now pulling data for #312, meulaboh\n",
      "Now pulling data for #313, provideniya\n",
      "Now pulling data for #314, leh\n",
      "Now pulling data for #315, miri\n",
      "Now pulling data for #316, zhigansk\n",
      "Now pulling data for #317, puerto madryn\n",
      "Now pulling data for #318, san cristobal\n",
      "Now pulling data for #319, airai\n",
      "Now pulling data for #320, zhangye\n",
      "Now pulling data for #321, mana\n",
      "Now pulling data for #322, baherden\n",
      "unable to process #323, saleaula\n",
      "Now pulling data for #324, andenes\n",
      "Now pulling data for #325, abu kamal\n",
      "Now pulling data for #326, stavern\n",
      "Now pulling data for #327, kitimat\n",
      "Now pulling data for #328, henties bay\n",
      "Now pulling data for #329, evensk\n",
      "Now pulling data for #330, tadine\n",
      "Now pulling data for #331, tabou\n",
      "Now pulling data for #332, acapulco\n",
      "Now pulling data for #333, kiama\n",
      "Now pulling data for #334, neosho\n",
      "unable to process #335, samalaeulu\n",
      "Now pulling data for #336, golfito\n",
      "Now pulling data for #337, sistranda\n",
      "Now pulling data for #338, tulun\n",
      "Now pulling data for #339, taltal\n",
      "Now pulling data for #340, grindavik\n",
      "Now pulling data for #341, olafsvik\n",
      "Now pulling data for #342, blackwater\n",
      "Now pulling data for #343, hudson bay\n",
      "Now pulling data for #344, pedernales\n",
      "Now pulling data for #345, inhambane\n",
      "Now pulling data for #346, pangnirtung\n",
      "Now pulling data for #347, bandarbeyla\n",
      "Now pulling data for #348, thinadhoo\n",
      "Now pulling data for #349, seybaplaya\n",
      "Now pulling data for #350, malakal\n",
      "Now pulling data for #351, colac\n",
      "Now pulling data for #352, kaduqli\n",
      "Now pulling data for #353, ngunguru\n",
      "Now pulling data for #354, pimentel\n",
      "Now pulling data for #355, lufilufi\n",
      "Now pulling data for #356, athabasca\n",
      "Now pulling data for #357, oistins\n",
      "Now pulling data for #358, lexington park\n",
      "Now pulling data for #359, pahrump\n",
      "Now pulling data for #360, tocopilla\n",
      "Now pulling data for #361, hirara\n",
      "Now pulling data for #362, san quintin\n",
      "Now pulling data for #363, kamenka\n",
      "Now pulling data for #364, aranos\n",
      "Now pulling data for #365, abaza\n",
      "unable to process #366, saalfelden\n",
      "Now pulling data for #367, bowen\n",
      "Now pulling data for #368, richards bay\n",
      "Now pulling data for #369, doka\n",
      "Now pulling data for #370, kenai\n",
      "Now pulling data for #371, villa carlos paz\n",
      "Now pulling data for #372, jimeta\n",
      "unable to process #373, sorvag\n",
      "Now pulling data for #374, gravdal\n",
      "Now pulling data for #375, balakhta\n",
      "Now pulling data for #376, sioux lookout\n",
      "Now pulling data for #377, port lincoln\n",
      "Now pulling data for #378, kropotkin\n",
      "Now pulling data for #379, kalininsk\n",
      "Now pulling data for #380, rio gallegos\n",
      "Now pulling data for #381, karlstad\n",
      "Now pulling data for #382, butte\n",
      "Now pulling data for #383, caravelas\n",
      "Now pulling data for #384, sobolevo\n",
      "Now pulling data for #385, nara\n",
      "Now pulling data for #386, sault sainte marie\n",
      "Now pulling data for #387, faanui\n",
      "Now pulling data for #388, ondangwa\n",
      "Now pulling data for #389, zapolyarnyy\n",
      "Now pulling data for #390, price\n",
      "Now pulling data for #391, margate\n",
      "Now pulling data for #392, rocha\n",
      "unable to process #393, tubruq\n",
      "Now pulling data for #394, sakakah\n",
      "Now pulling data for #395, paine\n",
      "Now pulling data for #396, hamilton\n",
      "Now pulling data for #397, ambilobe\n",
      "Now pulling data for #398, montes claros\n",
      "Now pulling data for #399, iquique\n",
      "Now pulling data for #400, arlit\n",
      "Now pulling data for #401, calbuco\n",
      "Now pulling data for #402, jiangkou\n",
      "Now pulling data for #403, thakurgaon\n",
      "Now pulling data for #404, santo antonio do ica\n",
      "Now pulling data for #405, geraldton\n",
      "Now pulling data for #406, muscle shoals\n",
      "Now pulling data for #407, dunedin\n",
      "Now pulling data for #408, cam ranh\n",
      "Now pulling data for #409, kudat\n",
      "Now pulling data for #410, perieti\n",
      "Now pulling data for #411, cabo san lucas\n",
      "Now pulling data for #412, stokmarknes\n",
      "Now pulling data for #413, ballina\n",
      "Now pulling data for #414, buin\n",
      "Now pulling data for #415, barinitas\n",
      "Now pulling data for #416, iqaluit\n",
      "Now pulling data for #417, gigmoto\n",
      "Now pulling data for #418, egvekinot\n",
      "Now pulling data for #419, dongsheng\n",
      "Now pulling data for #420, moose factory\n",
      "unable to process #421, karaul\n",
      "Now pulling data for #422, kviteseid\n",
      "Now pulling data for #423, ardakan\n",
      "Now pulling data for #424, melo\n",
      "Now pulling data for #425, aksu\n",
      "Now pulling data for #426, hasaki\n",
      "Now pulling data for #427, harindanga\n",
      "Now pulling data for #428, bouca\n",
      "Now pulling data for #429, meadow lake\n",
      "Now pulling data for #430, yerbogachen\n",
      "Now pulling data for #431, codrington\n",
      "Now pulling data for #432, danli\n",
      "unable to process #433, eskasem\n",
      "Now pulling data for #434, vostok\n",
      "Now pulling data for #435, kulhudhuffushi\n",
      "Now pulling data for #436, sumbe\n",
      "Now pulling data for #437, narsaq\n",
      "Now pulling data for #438, kismayo\n",
      "Now pulling data for #439, rosetta\n",
      "Now pulling data for #440, aguimes\n",
      "Now pulling data for #441, palora\n",
      "Now pulling data for #442, quesnel\n",
      "Now pulling data for #443, hualmay\n",
      "Now pulling data for #444, ploemeur\n",
      "Now pulling data for #445, eskil\n",
      "Now pulling data for #446, puerto escondido\n",
      "Now pulling data for #447, pekan\n",
      "Now pulling data for #448, booue\n",
      "Now pulling data for #449, ughelli\n",
      "Now pulling data for #450, ondjiva\n",
      "Now pulling data for #451, la pena\n",
      "Now pulling data for #452, sibolga\n",
      "Now pulling data for #453, baoding\n",
      "unable to process #454, bolshoy istok\n",
      "Now pulling data for #455, charcas\n",
      "Now pulling data for #456, touros\n",
      "Now pulling data for #457, turukhansk\n",
      "Now pulling data for #458, tevaitoa\n",
      "Now pulling data for #459, husavik\n",
      "Now pulling data for #460, duiwelskloof\n"
     ]
    },
    {
     "name": "stdout",
     "output_type": "stream",
     "text": [
      "Now pulling data for #461, saint anthony\n",
      "Now pulling data for #462, lanzhou\n",
      "Now pulling data for #463, north bend\n",
      "Now pulling data for #464, powell river\n",
      "Now pulling data for #465, lexington\n",
      "Now pulling data for #466, honningsvag\n",
      "Now pulling data for #467, sile\n",
      "unable to process #468, kamenskoye\n",
      "Now pulling data for #469, kysyl-syr\n",
      "Now pulling data for #470, ust-koksa\n",
      "Now pulling data for #471, anupshahr\n",
      "Now pulling data for #472, saint-louis\n",
      "Now pulling data for #473, krasnyy kut\n",
      "Now pulling data for #474, opuwo\n",
      "Now pulling data for #475, shizunai\n",
      "Now pulling data for #476, coromandel\n",
      "Now pulling data for #477, tessalit\n",
      "Now pulling data for #478, lar\n",
      "unable to process #479, umzimvubu\n",
      "Now pulling data for #480, assiniboia\n",
      "Now pulling data for #481, neyshabur\n",
      "Now pulling data for #482, kelvington\n",
      "Now pulling data for #483, otradnoye\n",
      "Now pulling data for #484, haines junction\n",
      "Now pulling data for #485, sovetskiy\n",
      "Now pulling data for #486, sao jose da coroa grande\n",
      "unable to process #487, yunjinghong\n",
      "Now pulling data for #488, banes\n",
      "Now pulling data for #489, borazjan\n",
      "Now pulling data for #490, nelson bay\n",
      "Now pulling data for #491, kavieng\n",
      "unable to process #492, vaitupu\n",
      "Now pulling data for #493, araouane\n",
      "Now pulling data for #494, waiuku\n",
      "unable to process #495, lolua\n",
      "Now pulling data for #496, kargasok\n",
      "Now pulling data for #497, calama\n",
      "unable to process #498, palabuhanratu\n",
      "Now pulling data for #499, inyonga\n",
      "Now pulling data for #500, zvecka\n",
      "Now pulling data for #501, sao joao da barra\n",
      "unable to process #502, balasinor\n",
      "Now pulling data for #503, quatre cocos\n",
      "Now pulling data for #504, ilulissat\n",
      "Now pulling data for #505, bekobod\n",
      "Now pulling data for #506, senanga\n",
      "Now pulling data for #507, boundiali\n",
      "Now pulling data for #508, shwebo\n",
      "Now pulling data for #509, beringovskiy\n",
      "Now pulling data for #510, beboto\n",
      "Now pulling data for #511, rantepao\n",
      "Now pulling data for #512, ca mau\n",
      "Now pulling data for #513, olinda\n",
      "Now pulling data for #514, alyangula\n",
      "Now pulling data for #515, tosya\n",
      "Now pulling data for #516, bonavista\n",
      "Now pulling data for #517, ballarat\n",
      "Now pulling data for #518, pitimbu\n",
      "Now pulling data for #519, sibut\n",
      "Now pulling data for #520, road town\n",
      "Now pulling data for #521, eureka\n",
      "Now pulling data for #522, hauterive\n",
      "Now pulling data for #523, ranfurly\n",
      "Now pulling data for #524, chimbote\n",
      "Now pulling data for #525, coruripe\n",
      "Now pulling data for #526, altamira\n",
      "Now pulling data for #527, phonhong\n",
      "Now pulling data for #528, port hardy\n",
      "Now pulling data for #529, severnyy\n",
      "Now pulling data for #530, rio grande\n",
      "Now pulling data for #531, dicabisagan\n",
      "unable to process #532, mogochin\n",
      "Now pulling data for #533, pisco\n",
      "Now pulling data for #534, joensuu\n",
      "Now pulling data for #535, jiazi\n",
      "Now pulling data for #536, rawson\n",
      "Now pulling data for #537, ashland\n",
      "Now pulling data for #538, flin flon\n",
      "Now pulling data for #539, beibei\n",
      "Now pulling data for #540, ocos\n",
      "Now pulling data for #541, nizhniy kuranakh\n",
      "Now pulling data for #542, mangrol\n",
      "Now pulling data for #543, cozumel\n",
      "Now pulling data for #544, isangel\n",
      "Now pulling data for #545, bud\n",
      "unable to process #546, rawannawi\n",
      "Now pulling data for #547, dauriya\n",
      "Now pulling data for #548, laguna\n",
      "Now pulling data for #549, mahanoro\n",
      "Now pulling data for #550, pontianak\n",
      "Now pulling data for #551, thabazimbi\n",
      "Now pulling data for #552, aqtobe\n",
      "Now pulling data for #553, shenkursk\n",
      "Now pulling data for #554, khani\n",
      "Now pulling data for #555, meadville\n",
      "Now pulling data for #556, sao miguel do araguaia\n",
      "Now pulling data for #557, boffa\n",
      "Now pulling data for #558, oranjemund\n",
      "Now pulling data for #559, paraiso\n",
      "Now pulling data for #560, ola\n",
      "Now pulling data for #561, kota\n",
      "Now pulling data for #562, springbok\n",
      "Now pulling data for #563, kununurra\n",
      "unable to process #564, hihifo\n",
      "unable to process #565, doctor pedro p. pena\n",
      "Now pulling data for #566, port-gentil\n",
      "Now pulling data for #567, guarumal\n",
      "unable to process #568, ayoquezco\n",
      "Now pulling data for #569, marabba\n",
      "unable to process #570, tumannyy\n",
      "Now pulling data for #571, saint-pierre\n",
      "unable to process #572, grand river south east\n",
      "Now pulling data for #573, diveyevo\n",
      "Now pulling data for #574, magaria\n",
      "Now pulling data for #575, dubbo\n",
      "Now pulling data for #576, khandyga\n",
      "Now pulling data for #577, yarada\n",
      "Now pulling data for #578, christchurch\n",
      "Now pulling data for #579, praia da vitoria\n",
      "unable to process #580, halalo\n",
      "Now pulling data for #581, hildburghausen\n",
      "Now pulling data for #582, alice springs\n",
      "Now pulling data for #583, shenxian\n",
      "Now pulling data for #584, oda\n",
      "Now pulling data for #585, ternate\n",
      "Now pulling data for #586, moses lake\n",
      "Now pulling data for #587, maun\n",
      "Now pulling data for #588, sorland\n",
      "Now pulling data for #589, port blair\n",
      "Now pulling data for #590, biak\n",
      "Now pulling data for #591, quelimane\n",
      "Now pulling data for #592, leo\n",
      "Now pulling data for #593, mahibadhoo\n",
      "Now pulling data for #594, trebechovice pod orebem\n",
      "Now pulling data for #595, awbari\n",
      "Now pulling data for #596, arraias\n",
      "Now pulling data for #597, srednekolymsk\n",
      "unable to process #598, strelca\n",
      "Now pulling data for #599, morgaushi\n",
      "Now pulling data for #600, brae\n",
      "Now pulling data for #601, comodoro rivadavia\n",
      "Now pulling data for #602, cabatuan\n",
      "Now pulling data for #603, moshupa\n",
      "Now pulling data for #604, namatanai\n",
      "Now pulling data for #605, palanga\n",
      "Now pulling data for #606, rodrigues alves\n",
      "Now pulling data for #607, tobane\n",
      "unable to process #608, tarhunah\n",
      "Now pulling data for #609, zaranj\n",
      "Now pulling data for #610, naranjito\n",
      "Now pulling data for #611, george\n",
      "Now pulling data for #612, yinchuan\n",
      "Now pulling data for #613, ketovo\n",
      "Now pulling data for #614, edd\n",
      "Now pulling data for #615, san francisco del mar\n",
      "Now pulling data for #616, myanaung\n",
      "Now pulling data for #617, balaguer\n",
      "Now pulling data for #618, cabo rojo\n",
      "unable to process #619, jiddah\n",
      "unable to process #620, kuche\n",
      "Now pulling data for #621, monrovia\n",
      "Now pulling data for #622, kerepehi\n",
      "Now pulling data for #623, the valley\n",
      "Now pulling data for #624, ossora\n",
      "Now pulling data for #625, pinega\n",
      "Now pulling data for #626, xining\n",
      "Now pulling data for #627, saldanha\n",
      "Now pulling data for #628, jurm\n",
      "Now pulling data for #629, male\n",
      "Now pulling data for #630, carora\n",
      "Now pulling data for #631, jinzhou\n",
      "Now pulling data for #632, santa cruz cabralia\n",
      "Now pulling data for #633, puerto baquerizo moreno\n",
      "unable to process #634, scottsburgh\n",
      "Now pulling data for #635, grootfontein\n",
      "Now pulling data for #636, natchitoches\n",
      "Now pulling data for #637, adrar\n",
      "Now pulling data for #638, fort nelson\n",
      "--------------------\n",
      "All finished. 584 cities had info pulled\n"
     ]
    }
   ],
   "source": [
    "#smallcities = [\"portland\",\"houston\",\"seattle\",\"new york\",\"london\",\"sydney\",\"moose factory\"]\n",
    "\n",
    "updated_cities=[]\n",
    "lat = []\n",
    "lng = []\n",
    "maxtemp = []\n",
    "humidity = []\n",
    "cloudiness = []\n",
    "windspeed = []\n",
    "country = []\n",
    "date = []\n",
    "\n",
    "url = \"http://api.openweathermap.org/data/2.5/weather?\"\n",
    "query_url = url + \"appid=\" + weather_api_key + \"&q=\"\n",
    "\n",
    "#for each city in cities, grab the city, lat, lng, max temp, humidity, cloudiness,\n",
    "    #wind speed, country, date & add to DF\n",
    "row=1\n",
    "\n",
    "for city in cities:\n",
    "    response = requests.get(query_url + city).json()\n",
    "    try:\n",
    "        lat.append(response['coord']['lat'])    \n",
    "        lng.append(response['coord']['lon'])\n",
    "        maxtemp.append(response['main']['temp_max'])\n",
    "        humidity.append(response['main']['humidity'])\n",
    "        cloudiness.append(response['clouds']['all'])\n",
    "        windspeed.append(response['wind']['speed'])\n",
    "        country.append(response['sys']['country'])\n",
    "        date.append(response['dt'])\n",
    "        updated_cities.append(city)\n",
    "        print(f\"Now pulling data for #{row}, {city}\")\n",
    "    \n",
    "    except KeyError:\n",
    "        print(f\"unable to process #{row}, {city}\")\n",
    "    row = row+1\n",
    "\n",
    "print(f\"--------------------\")    \n",
    "print(f\"All finished. {len(lat)} cities had info pulled\")\n",
    "\n",
    "\n",
    "\n",
    "    \n",
    "    \n",
    "\n"
   ]
  },
  {
   "cell_type": "code",
   "execution_count": 12,
   "metadata": {},
   "outputs": [
    {
     "data": {
      "text/plain": [
       "584"
      ]
     },
     "execution_count": 12,
     "metadata": {},
     "output_type": "execute_result"
    }
   ],
   "source": [
    "len(lat)"
   ]
  },
  {
   "cell_type": "markdown",
   "metadata": {},
   "source": [
    "### Convert Raw Data to DataFrame\n",
    "* Export the city data into a .csv.\n",
    "* Display the DataFrame"
   ]
  },
  {
   "cell_type": "code",
   "execution_count": 13,
   "metadata": {},
   "outputs": [
    {
     "data": {
      "text/html": [
       "<div>\n",
       "<style scoped>\n",
       "    .dataframe tbody tr th:only-of-type {\n",
       "        vertical-align: middle;\n",
       "    }\n",
       "\n",
       "    .dataframe tbody tr th {\n",
       "        vertical-align: top;\n",
       "    }\n",
       "\n",
       "    .dataframe thead th {\n",
       "        text-align: right;\n",
       "    }\n",
       "</style>\n",
       "<table border=\"1\" class=\"dataframe\">\n",
       "  <thead>\n",
       "    <tr style=\"text-align: right;\">\n",
       "      <th></th>\n",
       "      <th>city</th>\n",
       "      <th>lat</th>\n",
       "      <th>lng</th>\n",
       "      <th>max temp(f)</th>\n",
       "      <th>humidity(%)</th>\n",
       "      <th>cloudiness(%)</th>\n",
       "      <th>wind speed(mph)</th>\n",
       "      <th>country</th>\n",
       "      <th>date</th>\n",
       "    </tr>\n",
       "  </thead>\n",
       "  <tbody>\n",
       "    <tr>\n",
       "      <th>0</th>\n",
       "      <td>lompoc</td>\n",
       "      <td>34.64</td>\n",
       "      <td>-120.46</td>\n",
       "      <td>291.48</td>\n",
       "      <td>72</td>\n",
       "      <td>1</td>\n",
       "      <td>5.10</td>\n",
       "      <td>US</td>\n",
       "      <td>1604365505</td>\n",
       "    </tr>\n",
       "    <tr>\n",
       "      <th>1</th>\n",
       "      <td>hermanus</td>\n",
       "      <td>-34.42</td>\n",
       "      <td>19.23</td>\n",
       "      <td>290.93</td>\n",
       "      <td>85</td>\n",
       "      <td>11</td>\n",
       "      <td>3.13</td>\n",
       "      <td>ZA</td>\n",
       "      <td>1604365742</td>\n",
       "    </tr>\n",
       "    <tr>\n",
       "      <th>2</th>\n",
       "      <td>punta arenas</td>\n",
       "      <td>-53.15</td>\n",
       "      <td>-70.92</td>\n",
       "      <td>284.15</td>\n",
       "      <td>50</td>\n",
       "      <td>75</td>\n",
       "      <td>3.10</td>\n",
       "      <td>CL</td>\n",
       "      <td>1604365484</td>\n",
       "    </tr>\n",
       "    <tr>\n",
       "      <th>3</th>\n",
       "      <td>naryan-mar</td>\n",
       "      <td>67.67</td>\n",
       "      <td>53.09</td>\n",
       "      <td>271.72</td>\n",
       "      <td>92</td>\n",
       "      <td>67</td>\n",
       "      <td>5.72</td>\n",
       "      <td>RU</td>\n",
       "      <td>1604365742</td>\n",
       "    </tr>\n",
       "    <tr>\n",
       "      <th>4</th>\n",
       "      <td>puerto ayora</td>\n",
       "      <td>-0.74</td>\n",
       "      <td>-90.35</td>\n",
       "      <td>294.26</td>\n",
       "      <td>94</td>\n",
       "      <td>95</td>\n",
       "      <td>3.58</td>\n",
       "      <td>EC</td>\n",
       "      <td>1604365742</td>\n",
       "    </tr>\n",
       "  </tbody>\n",
       "</table>\n",
       "</div>"
      ],
      "text/plain": [
       "           city    lat     lng  max temp(f)  humidity(%)  cloudiness(%)  \\\n",
       "0        lompoc  34.64 -120.46       291.48           72              1   \n",
       "1      hermanus -34.42   19.23       290.93           85             11   \n",
       "2  punta arenas -53.15  -70.92       284.15           50             75   \n",
       "3    naryan-mar  67.67   53.09       271.72           92             67   \n",
       "4  puerto ayora  -0.74  -90.35       294.26           94             95   \n",
       "\n",
       "   wind speed(mph) country        date  \n",
       "0             5.10      US  1604365505  \n",
       "1             3.13      ZA  1604365742  \n",
       "2             3.10      CL  1604365484  \n",
       "3             5.72      RU  1604365742  \n",
       "4             3.58      EC  1604365742  "
      ]
     },
     "execution_count": 13,
     "metadata": {},
     "output_type": "execute_result"
    }
   ],
   "source": [
    "city_dict = {\"city\":updated_cities,\n",
    "                 \"lat\":lat,\n",
    "                 \"lng\":lng,\n",
    "                 \"max temp(f)\":maxtemp,\n",
    "                 \"humidity(%)\":humidity,\n",
    "                 \"cloudiness(%)\":cloudiness,\n",
    "                 \"wind speed(mph)\":windspeed,\n",
    "                 \"country\":country,\n",
    "                 \"date\":date}\n",
    "\n",
    "cities_df=pd.DataFrame(city_dict)\n",
    "cities_df.to_csv('../Resources/Cities.csv')\n",
    "cities_df.head()"
   ]
  },
  {
   "cell_type": "code",
   "execution_count": 14,
   "metadata": {},
   "outputs": [
    {
     "data": {
      "text/html": [
       "<div>\n",
       "<style scoped>\n",
       "    .dataframe tbody tr th:only-of-type {\n",
       "        vertical-align: middle;\n",
       "    }\n",
       "\n",
       "    .dataframe tbody tr th {\n",
       "        vertical-align: top;\n",
       "    }\n",
       "\n",
       "    .dataframe thead th {\n",
       "        text-align: right;\n",
       "    }\n",
       "</style>\n",
       "<table border=\"1\" class=\"dataframe\">\n",
       "  <thead>\n",
       "    <tr style=\"text-align: right;\">\n",
       "      <th></th>\n",
       "      <th>lat</th>\n",
       "      <th>lng</th>\n",
       "      <th>max temp(f)</th>\n",
       "      <th>humidity(%)</th>\n",
       "      <th>cloudiness(%)</th>\n",
       "      <th>wind speed(mph)</th>\n",
       "      <th>date</th>\n",
       "    </tr>\n",
       "  </thead>\n",
       "  <tbody>\n",
       "    <tr>\n",
       "      <th>count</th>\n",
       "      <td>584.000000</td>\n",
       "      <td>584.000000</td>\n",
       "      <td>584.000000</td>\n",
       "      <td>584.000000</td>\n",
       "      <td>584.000000</td>\n",
       "      <td>584.000000</td>\n",
       "      <td>5.840000e+02</td>\n",
       "    </tr>\n",
       "    <tr>\n",
       "      <th>mean</th>\n",
       "      <td>19.005068</td>\n",
       "      <td>20.365171</td>\n",
       "      <td>287.815668</td>\n",
       "      <td>71.773973</td>\n",
       "      <td>52.208904</td>\n",
       "      <td>3.818459</td>\n",
       "      <td>1.604366e+09</td>\n",
       "    </tr>\n",
       "    <tr>\n",
       "      <th>std</th>\n",
       "      <td>33.613378</td>\n",
       "      <td>90.981434</td>\n",
       "      <td>11.987729</td>\n",
       "      <td>21.485572</td>\n",
       "      <td>42.443394</td>\n",
       "      <td>3.124630</td>\n",
       "      <td>9.130323e+01</td>\n",
       "    </tr>\n",
       "    <tr>\n",
       "      <th>min</th>\n",
       "      <td>-54.800000</td>\n",
       "      <td>-179.170000</td>\n",
       "      <td>247.850000</td>\n",
       "      <td>8.000000</td>\n",
       "      <td>0.000000</td>\n",
       "      <td>0.150000</td>\n",
       "      <td>1.604365e+09</td>\n",
       "    </tr>\n",
       "    <tr>\n",
       "      <th>25%</th>\n",
       "      <td>-8.907500</td>\n",
       "      <td>-64.530000</td>\n",
       "      <td>280.292500</td>\n",
       "      <td>60.000000</td>\n",
       "      <td>1.000000</td>\n",
       "      <td>1.500000</td>\n",
       "      <td>1.604366e+09</td>\n",
       "    </tr>\n",
       "    <tr>\n",
       "      <th>50%</th>\n",
       "      <td>22.180000</td>\n",
       "      <td>27.150000</td>\n",
       "      <td>290.260000</td>\n",
       "      <td>77.000000</td>\n",
       "      <td>69.000000</td>\n",
       "      <td>3.050000</td>\n",
       "      <td>1.604366e+09</td>\n",
       "    </tr>\n",
       "    <tr>\n",
       "      <th>75%</th>\n",
       "      <td>46.822500</td>\n",
       "      <td>102.262500</td>\n",
       "      <td>297.832500</td>\n",
       "      <td>88.000000</td>\n",
       "      <td>98.000000</td>\n",
       "      <td>5.100000</td>\n",
       "      <td>1.604366e+09</td>\n",
       "    </tr>\n",
       "    <tr>\n",
       "      <th>max</th>\n",
       "      <td>78.220000</td>\n",
       "      <td>179.320000</td>\n",
       "      <td>308.150000</td>\n",
       "      <td>100.000000</td>\n",
       "      <td>100.000000</td>\n",
       "      <td>20.100000</td>\n",
       "      <td>1.604366e+09</td>\n",
       "    </tr>\n",
       "  </tbody>\n",
       "</table>\n",
       "</div>"
      ],
      "text/plain": [
       "              lat         lng  max temp(f)  humidity(%)  cloudiness(%)  \\\n",
       "count  584.000000  584.000000   584.000000   584.000000     584.000000   \n",
       "mean    19.005068   20.365171   287.815668    71.773973      52.208904   \n",
       "std     33.613378   90.981434    11.987729    21.485572      42.443394   \n",
       "min    -54.800000 -179.170000   247.850000     8.000000       0.000000   \n",
       "25%     -8.907500  -64.530000   280.292500    60.000000       1.000000   \n",
       "50%     22.180000   27.150000   290.260000    77.000000      69.000000   \n",
       "75%     46.822500  102.262500   297.832500    88.000000      98.000000   \n",
       "max     78.220000  179.320000   308.150000   100.000000     100.000000   \n",
       "\n",
       "       wind speed(mph)          date  \n",
       "count       584.000000  5.840000e+02  \n",
       "mean          3.818459  1.604366e+09  \n",
       "std           3.124630  9.130323e+01  \n",
       "min           0.150000  1.604365e+09  \n",
       "25%           1.500000  1.604366e+09  \n",
       "50%           3.050000  1.604366e+09  \n",
       "75%           5.100000  1.604366e+09  \n",
       "max          20.100000  1.604366e+09  "
      ]
     },
     "execution_count": 14,
     "metadata": {},
     "output_type": "execute_result"
    }
   ],
   "source": [
    "cities_df.describe()"
   ]
  },
  {
   "cell_type": "markdown",
   "metadata": {},
   "source": [
    "## Inspect the data and remove the cities where the humidity > 100%.\n",
    "----\n",
    "Skip this step if there are no cities that have humidity > 100%. "
   ]
  },
  {
   "cell_type": "code",
   "execution_count": 15,
   "metadata": {},
   "outputs": [
    {
     "name": "stdout",
     "output_type": "stream",
     "text": [
      "all done checking humidity for 584 cities\n"
     ]
    }
   ],
   "source": [
    "for index, row in cities_df.iterrows():\n",
    "    if row[\"humidity(%)\"]>100:\n",
    "        city=row[\"city\"]\n",
    "        print(f\"{city} is too humid\")\n",
    "        \n",
    "        \n",
    "#my current data doesn't have any cities with humidity >100%\n",
    "        \n",
    "print(f\"all done checking humidity for {len(cities_df)} cities\")"
   ]
  },
  {
   "cell_type": "code",
   "execution_count": 16,
   "metadata": {},
   "outputs": [
    {
     "name": "stdout",
     "output_type": "stream",
     "text": [
      "all done checking humidity for 584 cities\n",
      "[]\n"
     ]
    }
   ],
   "source": [
    "#  Get the indices of cities that have humidity over 100%.\n",
    "too_humid = []\n",
    "for index, row in cities_df.iterrows():\n",
    "    if row[\"humidity(%)\"]>100:\n",
    "        city=row[\"city\"]\n",
    "        print(f\"{city} is too humid\")\n",
    "        too_humid.append(cities_df.loc[index])\n",
    "        \n",
    "print(f\"all done checking humidity for {len(cities_df)} cities\")\n",
    "print(too_humid)"
   ]
  },
  {
   "cell_type": "code",
   "execution_count": 17,
   "metadata": {},
   "outputs": [],
   "source": [
    "# Make a new DataFrame equal to the city data to drop all humidity outliers by index.\n",
    "# Passing \"inplace=False\" will make a copy of the city_data DataFrame, which we call \"clean_city_data\".\n",
    "\n",
    "#skipping since no cities have humidity greater than 100%. May come back later just to mess around with."
   ]
  },
  {
   "cell_type": "code",
   "execution_count": null,
   "metadata": {},
   "outputs": [],
   "source": [
    "\n"
   ]
  },
  {
   "cell_type": "markdown",
   "metadata": {},
   "source": [
    "## Plotting the Data\n",
    "* Use proper labeling of the plots using plot titles (including date of analysis) and axes labels.\n",
    "* Save the plotted figures as .pngs."
   ]
  },
  {
   "cell_type": "markdown",
   "metadata": {},
   "source": [
    "## Latitude vs. Temperature Plot"
   ]
  },
  {
   "cell_type": "code",
   "execution_count": 18,
   "metadata": {
    "scrolled": true
   },
   "outputs": [
    {
     "data": {
      "image/png": "[encoded data removed]",
      "text/plain": [
       "<Figure size 432x288 with 1 Axes>"
      ]
     },
     "metadata": {
      "needs_background": "light"
     },
     "output_type": "display_data"
    }
   ],
   "source": [
    "#Y is Max Temperature(F), X is Latitude\n",
    "#Title: City Latitude vs Max Temperature(11/02/20)\n",
    "cities_df.plot(kind=\"scatter\",x=\"lat\",y=\"max temp(f)\", grid=True,\n",
    "               title = \"City Latitude vs Max Temperature(11/02/20)\")\n",
    "\n",
    "plt.savefig(\"Images/lat_vs_maxtemp.png\")\n",
    "plt.show()"
   ]
  },
  {
   "cell_type": "markdown",
   "metadata": {},
   "source": [
    "## Latitude vs. Humidity Plot"
   ]
  },
  {
   "cell_type": "code",
   "execution_count": 19,
   "metadata": {},
   "outputs": [
    {
     "data": {
      "image/png": "[encoded data removed]",
      "text/plain": [
       "<Figure size 432x288 with 1 Axes>"
      ]
     },
     "metadata": {
      "needs_background": "light"
     },
     "output_type": "display_data"
    }
   ],
   "source": [
    "#Y is Humidity(%), X is Latitude\n",
    "#Title: City Latitude vs Humidity(11/02/20)\n",
    "cities_df.plot(kind=\"scatter\",x=\"lat\",y=\"humidity(%)\", grid=True,\n",
    "               title = \"City Latitude vs Humidity(11/02/20)\")\n",
    "\n",
    "plt.savefig(\"Images/lat_vs_humidity.png\")\n",
    "plt.show()"
   ]
  },
  {
   "cell_type": "markdown",
   "metadata": {},
   "source": [
    "## Latitude vs. Cloudiness Plot"
   ]
  },
  {
   "cell_type": "code",
   "execution_count": 20,
   "metadata": {},
   "outputs": [
    {
     "data": {
      "image/png": "[encoded data removed]",
      "text/plain": [
       "<Figure size 432x288 with 1 Axes>"
      ]
     },
     "metadata": {
      "needs_background": "light"
     },
     "output_type": "display_data"
    }
   ],
   "source": [
    "#Y is Cloudiness(%), X is Latitude\n",
    "#Title: City Latitude vs Cloudiness(11/02/20)\n",
    "cities_df.plot(kind=\"scatter\",x=\"lat\",y=\"cloudiness(%)\", grid=True,\n",
    "               title = \"City Latitude vs Humidity(11/02/20)\")\n",
    "\n",
    "plt.savefig(\"Images/lat_vs_cloudiness.png\")\n",
    "plt.show()"
   ]
  },
  {
   "cell_type": "markdown",
   "metadata": {},
   "source": [
    "## Latitude vs. Wind Speed Plot"
   ]
  },
  {
   "cell_type": "code",
   "execution_count": 21,
   "metadata": {},
   "outputs": [
    {
     "data": {
      "image/png": "[encoded data removed]",
      "text/plain": [
       "<Figure size 432x288 with 1 Axes>"
      ]
     },
     "metadata": {
      "needs_background": "light"
     },
     "output_type": "display_data"
    }
   ],
   "source": [
    "#Y is Wind Speed(mph), X is Latitude\n",
    "#Title: City Latitude vs Wind Speed(11/02/20)\n",
    "cities_df.plot(kind=\"scatter\",x=\"lat\",y=\"wind speed(mph)\", grid=True,\n",
    "               title = \"City Latitude vs Humidity(11/02/20)\")\n",
    "\n",
    "plt.savefig(\"Images/lat_vs_windspeed.png\")\n",
    "plt.show()"
   ]
  },
  {
   "cell_type": "markdown",
   "metadata": {},
   "source": [
    "## Linear Regression"
   ]
  },
  {
   "cell_type": "code",
   "execution_count": null,
   "metadata": {},
   "outputs": [],
   "source": []
  },
  {
   "cell_type": "markdown",
   "metadata": {},
   "source": [
    "####  Northern Hemisphere - Max Temp vs. Latitude Linear Regression"
   ]
  },
  {
   "cell_type": "code",
   "execution_count": 22,
   "metadata": {},
   "outputs": [
    {
     "name": "stdout",
     "output_type": "stream",
     "text": [
      "The r-value is: -0.8429197261496258\n"
     ]
    },
    {
     "data": {
      "image/png": "[encoded data removed]",
      "text/plain": [
       "<Figure size 432x288 with 1 Axes>"
      ]
     },
     "metadata": {
      "needs_background": "light"
     },
     "output_type": "display_data"
    }
   ],
   "source": [
    "#Y is Max Temp, X is Latitude >=0\n",
    "#The r-value is: rvalue\n",
    "n_hem = cities_df.loc[cities_df[\"lat\"]>=0,:]\n",
    "x_values=n_hem[\"lat\"]\n",
    "y_values=n_hem[\"max temp(f)\"]\n",
    "\n",
    "(slope, intercept, rvalue, pvalue, stderr) = linregress(x_values, y_values)\n",
    "regress_values = x_values * slope + intercept\n",
    "line_eq = \"y = \" + str(round(slope,2)) + \"x + \" + str(round(intercept,2))\n",
    "plt.scatter(x_values,y_values)\n",
    "plt.plot(x_values,regress_values,\"r-\")\n",
    "plt.annotate(line_eq,(10,260),fontsize=15,color=\"red\")\n",
    "plt.xlabel('Latitude')\n",
    "plt.ylabel('Max Temp(F)')\n",
    "print(f\"The r-value is: {rvalue}\")\n",
    "plt.savefig(\"Images/NHlat_vs_tempLR.png\")\n",
    "plt.show()"
   ]
  },
  {
   "cell_type": "markdown",
   "metadata": {},
   "source": [
    "####  Southern Hemisphere - Max Temp vs. Latitude Linear Regression"
   ]
  },
  {
   "cell_type": "code",
   "execution_count": 23,
   "metadata": {},
   "outputs": [
    {
     "name": "stdout",
     "output_type": "stream",
     "text": [
      "The r-value is: 0.5436225579137207\n"
     ]
    },
    {
     "data": {
      "image/png": "[encoded data removed]",
      "text/plain": [
       "<Figure size 432x288 with 1 Axes>"
      ]
     },
     "metadata": {
      "needs_background": "light"
     },
     "output_type": "display_data"
    }
   ],
   "source": [
    "#Y is Max Temp, X is Latitude <=0\n",
    "#The r-value is: rvalue\n",
    "s_hem = cities_df.loc[cities_df[\"lat\"]<=0,:]\n",
    "x_values=s_hem[\"lat\"]\n",
    "y_values=s_hem[\"max temp(f)\"]\n",
    "\n",
    "(slope, intercept, rvalue, pvalue, stderr) = linregress(x_values, y_values)\n",
    "regress_values = x_values * slope + intercept\n",
    "line_eq = \"y = \" + str(round(slope,2)) + \"x + \" + str(round(intercept,2))\n",
    "plt.scatter(x_values,y_values)\n",
    "plt.plot(x_values,regress_values,\"r-\")\n",
    "plt.annotate(line_eq,(-50,300),fontsize=15,color=\"red\")\n",
    "plt.xlabel('Latitude')\n",
    "plt.ylabel('Max Temp(F)')\n",
    "print(f\"The r-value is: {rvalue}\")\n",
    "plt.savefig(\"Images/SHlat_vs_tempLR.png\")\n",
    "plt.show()\n"
   ]
  },
  {
   "cell_type": "markdown",
   "metadata": {},
   "source": [
    "####  Northern Hemisphere - Humidity (%) vs. Latitude Linear Regression"
   ]
  },
  {
   "cell_type": "code",
   "execution_count": 24,
   "metadata": {},
   "outputs": [
    {
     "name": "stdout",
     "output_type": "stream",
     "text": [
      "The r-value is: 0.2396794084485057\n"
     ]
    },
    {
     "data": {
      "image/png": "[encoded data removed]",
      "text/plain": [
       "<Figure size 432x288 with 1 Axes>"
      ]
     },
     "metadata": {
      "needs_background": "light"
     },
     "output_type": "display_data"
    }
   ],
   "source": [
    "x_values=n_hem[\"lat\"]\n",
    "y_values=n_hem[\"humidity(%)\"]\n",
    "\n",
    "(slope, intercept, rvalue, pvalue, stderr) = linregress(x_values, y_values)\n",
    "regress_values = x_values * slope + intercept\n",
    "line_eq = \"y = \" + str(round(slope,2)) + \"x + \" + str(round(intercept,2))\n",
    "plt.scatter(x_values,y_values)\n",
    "plt.plot(x_values,regress_values,\"r-\")\n",
    "plt.annotate(line_eq,(40,20),fontsize=15,color=\"red\")\n",
    "plt.xlabel('Latitude')\n",
    "plt.ylabel('Humidity')\n",
    "print(f\"The r-value is: {rvalue}\")\n",
    "plt.savefig(\"Images/NHlat_vs_humidityLR.png\")\n",
    "plt.show()\n"
   ]
  },
  {
   "cell_type": "markdown",
   "metadata": {},
   "source": [
    "####  Southern Hemisphere - Humidity (%) vs. Latitude Linear Regression"
   ]
  },
  {
   "cell_type": "code",
   "execution_count": 25,
   "metadata": {},
   "outputs": [
    {
     "name": "stdout",
     "output_type": "stream",
     "text": [
      "The r-value is: 0.1996589741101076\n"
     ]
    },
    {
     "data": {
      "image/png": "[encoded data removed]",
      "text/plain": [
       "<Figure size 432x288 with 1 Axes>"
      ]
     },
     "metadata": {
      "needs_background": "light"
     },
     "output_type": "display_data"
    }
   ],
   "source": [
    "x_values=s_hem[\"lat\"]\n",
    "y_values=s_hem[\"humidity(%)\"]\n",
    "\n",
    "(slope, intercept, rvalue, pvalue, stderr) = linregress(x_values, y_values)\n",
    "regress_values = x_values * slope + intercept\n",
    "line_eq = \"y = \" + str(round(slope,2)) + \"x + \" + str(round(intercept,2))\n",
    "plt.scatter(x_values,y_values)\n",
    "plt.plot(x_values,regress_values,\"r-\")\n",
    "plt.annotate(line_eq,(-55,20),fontsize=15,color=\"red\")\n",
    "plt.xlabel('Latitude')\n",
    "plt.ylabel('Humidity')\n",
    "print(f\"The r-value is: {rvalue}\")\n",
    "plt.savefig(\"Images/SHlat_vs_humidityLR.png\")\n",
    "plt.show()\n"
   ]
  },
  {
   "cell_type": "markdown",
   "metadata": {},
   "source": [
    "####  Northern Hemisphere - Cloudiness (%) vs. Latitude Linear Regression"
   ]
  },
  {
   "cell_type": "code",
   "execution_count": 26,
   "metadata": {},
   "outputs": [
    {
     "name": "stdout",
     "output_type": "stream",
     "text": [
      "The r-value is: 0.2313936920287877\n"
     ]
    },
    {
     "data": {
      "image/png": "[encoded data removed]",
      "text/plain": [
       "<Figure size 432x288 with 1 Axes>"
      ]
     },
     "metadata": {
      "needs_background": "light"
     },
     "output_type": "display_data"
    }
   ],
   "source": [
    "x_values=n_hem[\"lat\"]\n",
    "y_values=n_hem[\"cloudiness(%)\"]\n",
    "\n",
    "(slope, intercept, rvalue, pvalue, stderr) = linregress(x_values, y_values)\n",
    "regress_values = x_values * slope + intercept\n",
    "line_eq = \"y = \" + str(round(slope,2)) + \"x + \" + str(round(intercept,2))\n",
    "plt.scatter(x_values,y_values)\n",
    "plt.plot(x_values,regress_values,\"r-\")\n",
    "plt.annotate(line_eq,(20,60),fontsize=15,color=\"red\")\n",
    "plt.xlabel('Latitude')\n",
    "plt.ylabel('Cloudiness')\n",
    "print(f\"The r-value is: {rvalue}\")\n",
    "plt.savefig(\"Images/NHlat_vs_cloudinessLR.png\")\n",
    "plt.show()"
   ]
  },
  {
   "cell_type": "markdown",
   "metadata": {},
   "source": [
    "####  Southern Hemisphere - Cloudiness (%) vs. Latitude Linear Regression"
   ]
  },
  {
   "cell_type": "code",
   "execution_count": 27,
   "metadata": {},
   "outputs": [
    {
     "name": "stdout",
     "output_type": "stream",
     "text": [
      "The r-value is: 0.20775549571142798\n"
     ]
    },
    {
     "data": {
      "image/png": "[encoded data removed]",
      "text/plain": [
       "<Figure size 432x288 with 1 Axes>"
      ]
     },
     "metadata": {
      "needs_background": "light"
     },
     "output_type": "display_data"
    }
   ],
   "source": [
    "x_values=s_hem[\"lat\"]\n",
    "y_values=s_hem[\"cloudiness(%)\"]\n",
    "\n",
    "(slope, intercept, rvalue, pvalue, stderr) = linregress(x_values, y_values)\n",
    "regress_values = x_values * slope + intercept\n",
    "line_eq = \"y = \" + str(round(slope,2)) + \"x + \" + str(round(intercept,2))\n",
    "plt.scatter(x_values,y_values)\n",
    "plt.plot(x_values,regress_values,\"r-\")\n",
    "plt.annotate(line_eq,(-50,60),fontsize=15,color=\"red\")\n",
    "plt.xlabel('Latitude')\n",
    "plt.ylabel('Cloudiness')\n",
    "print(f\"The r-value is: {rvalue}\")\n",
    "plt.savefig(\"Images/SHlat_vs_cloudinessLR.png\")\n",
    "plt.show()"
   ]
  },
  {
   "cell_type": "markdown",
   "metadata": {},
   "source": [
    "####  Northern Hemisphere - Wind Speed (mph) vs. Latitude Linear Regression"
   ]
  },
  {
   "cell_type": "code",
   "execution_count": 28,
   "metadata": {},
   "outputs": [
    {
     "name": "stdout",
     "output_type": "stream",
     "text": [
      "The r-value is: 0.32630813447186907\n"
     ]
    },
    {
     "data": {
      "image/png": "[encoded data removed]",
      "text/plain": [
       "<Figure size 432x288 with 1 Axes>"
      ]
     },
     "metadata": {
      "needs_background": "light"
     },
     "output_type": "display_data"
    }
   ],
   "source": [
    "x_values=n_hem[\"lat\"]\n",
    "y_values=n_hem[\"wind speed(mph)\"]\n",
    "\n",
    "(slope, intercept, rvalue, pvalue, stderr) = linregress(x_values, y_values)\n",
    "regress_values = x_values * slope + intercept\n",
    "line_eq = \"y = \" + str(round(slope,2)) + \"x + \" + str(round(intercept,2))\n",
    "plt.scatter(x_values,y_values)\n",
    "plt.plot(x_values,regress_values,\"r-\")\n",
    "plt.annotate(line_eq,(3,17),fontsize=15,color=\"red\")\n",
    "plt.xlabel('Latitude')\n",
    "plt.ylabel('Wind Speed(mph)')\n",
    "print(f\"The r-value is: {rvalue}\")\n",
    "plt.savefig(\"Images/NHlat_vs_windspeedLR.png\")\n",
    "plt.show()"
   ]
  },
  {
   "cell_type": "markdown",
   "metadata": {},
   "source": [
    "####  Southern Hemisphere - Wind Speed (mph) vs. Latitude Linear Regression"
   ]
  },
  {
   "cell_type": "code",
   "execution_count": 29,
   "metadata": {},
   "outputs": [
    {
     "name": "stdout",
     "output_type": "stream",
     "text": [
      "The r-value is: -0.2706431060581658\n"
     ]
    },
    {
     "data": {
      "image/png": "[encoded data removed]",
      "text/plain": [
       "<Figure size 432x288 with 1 Axes>"
      ]
     },
     "metadata": {
      "needs_background": "light"
     },
     "output_type": "display_data"
    }
   ],
   "source": [
    "x_values=s_hem[\"lat\"]\n",
    "y_values=s_hem[\"wind speed(mph)\"]\n",
    "\n",
    "(slope, intercept, rvalue, pvalue, stderr) = linregress(x_values, y_values)\n",
    "regress_values = x_values * slope + intercept\n",
    "line_eq = \"y = \" + str(round(slope,2)) + \"x + \" + str(round(intercept,2))\n",
    "plt.scatter(x_values,y_values)\n",
    "plt.plot(x_values,regress_values,\"r-\")\n",
    "plt.annotate(line_eq,(-50,6),fontsize=15,color=\"red\")\n",
    "plt.xlabel('Latitude')\n",
    "plt.ylabel('Wind Speed(mph)')\n",
    "print(f\"The r-value is: {rvalue}\")\n",
    "plt.savefig(\"Images/SHlat_vs_windspeedLR.png\")\n",
    "plt.show()"
   ]
  },
  {
   "cell_type": "code",
   "execution_count": null,
   "metadata": {},
   "outputs": [],
   "source": []
  }
 ],
 "metadata": {
  "anaconda-cloud": {},
  "kernel_info": {
   "name": "python3"
  },
  "kernelspec": {
   "display_name": "Python 3",
   "language": "python",
   "name": "python3"
  },
  "language_info": {
   "codemirror_mode": {
    "name": "ipython",
    "version": 3
   },
   "file_extension": ".py",
   "mimetype": "text/x-python",
   "name": "python",
   "nbconvert_exporter": "python",
   "pygments_lexer": "ipython3",
   "version": "3.6.10"
  },
  "latex_envs": {
   "LaTeX_envs_menu_present": true,
   "autoclose": false,
   "autocomplete": true,
   "bibliofile": "biblio.bib",
   "cite_by": "apalike",
   "current_citInitial": 1,
   "eqLabelWithNumbers": true,
   "eqNumInitial": 1,
   "hotkeys": {
    "equation": "Ctrl-E",
    "itemize": "Ctrl-I"
   },
   "labels_anchors": false,
   "latex_user_defs": false,
   "report_style_numbering": false,
   "user_envs_cfg": false
  },
  "nteract": {
   "version": "0.12.3"
  }
 },
 "nbformat": 4,
 "nbformat_minor": 2
}
