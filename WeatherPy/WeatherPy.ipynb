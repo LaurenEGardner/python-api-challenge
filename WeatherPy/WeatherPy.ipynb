{
 "cells": [
  {
   "cell_type": "markdown",
   "metadata": {},
   "source": [
    "# WeatherPy\n",
    "----\n",
    "\n",
    "#### Note\n",
    "* Instructions have been included for each segment. You do not have to follow them exactly, but they are included to help you think through the steps."
   ]
  },
  {
   "cell_type": "code",
   "execution_count": 30,
   "metadata": {
    "scrolled": true
   },
   "outputs": [],
   "source": [
    "# Dependencies and Setup\n",
    "import matplotlib.pyplot as plt\n",
    "import pandas as pd\n",
    "import numpy as np\n",
    "import requests\n",
    "import time\n",
    "from scipy.stats import linregress\n",
    "from pprint import pprint\n",
    "\n",
    "# Import API key\n",
    "from api_keys import weather_api_key\n",
    "\n",
    "# Incorporated citipy to determine city based on latitude and longitude\n",
    "from citipy import citipy\n",
    "\n",
    "# Output File (CSV)\n",
    "output_data_file = \"output_data/cities.csv\"\n",
    "\n",
    "# Range of latitudes and longitudes\n",
    "lat_range = (-90, 90)\n",
    "lng_range = (-180, 180)"
   ]
  },
  {
   "cell_type": "markdown",
   "metadata": {},
   "source": [
    "## Generate Cities List"
   ]
  },
  {
   "cell_type": "code",
   "execution_count": 31,
   "metadata": {},
   "outputs": [
    {
     "data": {
      "text/plain": [
       "621"
      ]
     },
     "execution_count": 31,
     "metadata": {},
     "output_type": "execute_result"
    }
   ],
   "source": [
    "# List for holding lat_lngs and cities\n",
    "lat_lngs = []\n",
    "cities = []\n",
    "\n",
    "# Create a set of random lat and lng combinations\n",
    "lats = np.random.uniform(lat_range[0], lat_range[1], size=1500)\n",
    "lngs = np.random.uniform(lng_range[0], lng_range[1], size=1500)\n",
    "lat_lngs = zip(lats, lngs)\n",
    "\n",
    "# Identify nearest city for each lat, lng combination\n",
    "for lat_lng in lat_lngs:\n",
    "    city = citipy.nearest_city(lat_lng[0], lat_lng[1]).city_name\n",
    "    \n",
    "    # If the city is unique, then add it to a our cities list\n",
    "    if city not in cities:\n",
    "        cities.append(city)\n",
    "\n",
    "# Print the city count to confirm sufficient count\n",
    "len(cities)"
   ]
  },
  {
   "cell_type": "markdown",
   "metadata": {},
   "source": [
    "### Perform API Calls\n",
    "* Perform a weather check on each city using a series of successive API calls.\n",
    "* Include a print log of each city as it'sbeing processed (with the city number and city name).\n"
   ]
  },
  {
   "cell_type": "code",
   "execution_count": 10,
   "metadata": {},
   "outputs": [
    {
     "name": "stdout",
     "output_type": "stream",
     "text": [
      "{'base': 'stations',\n",
      " 'clouds': {'all': 99},\n",
      " 'cod': 200,\n",
      " 'coord': {'lat': 45.52, 'lon': -122.68},\n",
      " 'dt': 1604364943,\n",
      " 'id': 5746545,\n",
      " 'main': {'feels_like': 58.15,\n",
      "          'humidity': 65,\n",
      "          'pressure': 1016,\n",
      "          'temp': 59.34,\n",
      "          'temp_max': 62.01,\n",
      "          'temp_min': 55.99},\n",
      " 'name': 'Portland',\n",
      " 'sys': {'country': 'US',\n",
      "         'id': 2008548,\n",
      "         'sunrise': 1604328748,\n",
      "         'sunset': 1604364960,\n",
      "         'type': 3},\n",
      " 'timezone': -28800,\n",
      " 'visibility': 10000,\n",
      " 'weather': [{'description': 'overcast clouds',\n",
      "              'icon': '04d',\n",
      "              'id': 804,\n",
      "              'main': 'Clouds'}],\n",
      " 'wind': {'deg': 236, 'speed': 1.14}}\n"
     ]
    }
   ],
   "source": [
    "#Test query\n",
    "query_url = \"http://api.openweathermap.org/data/2.5/weather?appid=ff12f134f1a59b9bab3ac57c83d90f2b&units=imperial&q=portland\"\n",
    "weather_response = requests.get(query_url).json()\n",
    "pprint(weather_response)"
   ]
  },
  {
   "cell_type": "code",
   "execution_count": 36,
   "metadata": {
    "scrolled": false
   },
   "outputs": [
    {
     "name": "stdout",
     "output_type": "stream",
     "text": [
      "Now pulling data for #1, torbay\n",
      "Now pulling data for #2, nacogdoches\n",
      "Now pulling data for #3, boshnyakovo\n",
      "Now pulling data for #4, kresttsy\n",
      "unable to process #5, taolanaro\n",
      "Now pulling data for #6, barrow\n",
      "Now pulling data for #7, rikitea\n",
      "Now pulling data for #8, ponta do sol\n",
      "Now pulling data for #9, kodiak\n",
      "Now pulling data for #10, hilo\n",
      "Now pulling data for #11, bambous virieux\n",
      "Now pulling data for #12, union\n",
      "Now pulling data for #13, ochamchira\n",
      "Now pulling data for #14, ushuaia\n",
      "Now pulling data for #15, bluff\n",
      "Now pulling data for #16, new norfolk\n",
      "Now pulling data for #17, yellowknife\n",
      "Now pulling data for #18, arkhara\n",
      "Now pulling data for #19, cabo san lucas\n",
      "Now pulling data for #20, hasaki\n",
      "Now pulling data for #21, chiredzi\n",
      "Now pulling data for #22, vaini\n",
      "Now pulling data for #23, punta arenas\n",
      "Now pulling data for #24, brae\n",
      "Now pulling data for #25, summerville\n",
      "unable to process #26, cheuskiny\n",
      "Now pulling data for #27, mersing\n",
      "Now pulling data for #28, ahipara\n",
      "Now pulling data for #29, tungor\n",
      "Now pulling data for #30, acapulco\n",
      "Now pulling data for #31, busselton\n",
      "Now pulling data for #32, westport\n",
      "Now pulling data for #33, petropavl\n",
      "Now pulling data for #34, kampong thum\n",
      "Now pulling data for #35, leningradskiy\n",
      "unable to process #36, sentyabrskiy\n",
      "Now pulling data for #37, esso\n",
      "Now pulling data for #38, east london\n",
      "Now pulling data for #39, grindavik\n",
      "Now pulling data for #40, vanimo\n",
      "Now pulling data for #41, atuona\n",
      "Now pulling data for #42, pauini\n",
      "Now pulling data for #43, baruun-urt\n",
      "Now pulling data for #44, chokurdakh\n",
      "Now pulling data for #45, albany\n",
      "Now pulling data for #46, hobart\n",
      "Now pulling data for #47, cape town\n",
      "Now pulling data for #48, longyearbyen\n",
      "Now pulling data for #49, port alfred\n",
      "Now pulling data for #50, aktau\n",
      "Now pulling data for #51, angoche\n",
      "Now pulling data for #52, butaritari\n",
      "Now pulling data for #53, castro\n",
      "Now pulling data for #54, sikasso\n",
      "Now pulling data for #55, chuy\n",
      "Now pulling data for #56, codrington\n",
      "Now pulling data for #57, kupang\n",
      "Now pulling data for #58, inhambane\n",
      "Now pulling data for #59, te anau\n",
      "Now pulling data for #60, yei\n",
      "Now pulling data for #61, trairi\n",
      "Now pulling data for #62, moron\n",
      "Now pulling data for #63, khatanga\n",
      "Now pulling data for #64, cascais\n",
      "Now pulling data for #65, lebu\n",
      "Now pulling data for #66, sal rei\n",
      "Now pulling data for #67, saint-philippe\n",
      "Now pulling data for #68, kapaa\n",
      "Now pulling data for #69, dikson\n",
      "Now pulling data for #70, saint-augustin\n",
      "Now pulling data for #71, bengkulu\n",
      "Now pulling data for #72, muroto\n",
      "Now pulling data for #73, nanortalik\n",
      "unable to process #74, mys shmidta\n",
      "Now pulling data for #75, sitka\n",
      "Now pulling data for #76, wattegama\n",
      "Now pulling data for #77, marsa matruh\n",
      "Now pulling data for #78, qaanaaq\n",
      "Now pulling data for #79, georgetown\n",
      "Now pulling data for #80, broome\n",
      "Now pulling data for #81, antofagasta\n",
      "Now pulling data for #82, mataura\n",
      "Now pulling data for #83, hermanus\n",
      "Now pulling data for #84, mar del plata\n",
      "Now pulling data for #85, winnemucca\n",
      "Now pulling data for #86, isangel\n",
      "unable to process #87, illoqqortoormiut\n",
      "Now pulling data for #88, kahului\n",
      "Now pulling data for #89, port elizabeth\n",
      "unable to process #90, belushya guba\n",
      "Now pulling data for #91, monrovia\n",
      "Now pulling data for #92, saint anthony\n",
      "Now pulling data for #93, salalah\n",
      "Now pulling data for #94, narsaq\n",
      "Now pulling data for #95, teeli\n",
      "unable to process #96, hendijan\n",
      "Now pulling data for #97, katherine\n",
      "Now pulling data for #98, am timan\n",
      "Now pulling data for #99, mitsamiouli\n",
      "Now pulling data for #100, tempio pausania\n",
      "Now pulling data for #101, victoria\n",
      "unable to process #102, saleaula\n",
      "Now pulling data for #103, hithadhoo\n",
      "Now pulling data for #104, ruteng\n",
      "Now pulling data for #105, port lincoln\n",
      "Now pulling data for #106, arcachon\n",
      "unable to process #107, amderma\n",
      "Now pulling data for #108, chino valley\n",
      "Now pulling data for #109, mehamn\n",
      "Now pulling data for #110, tigil\n",
      "Now pulling data for #111, bozuyuk\n",
      "Now pulling data for #112, jamestown\n",
      "Now pulling data for #113, calabozo\n",
      "Now pulling data for #114, mahebourg\n",
      "Now pulling data for #115, yarmouth\n",
      "Now pulling data for #116, sibu\n",
      "Now pulling data for #117, manuk mangkaw\n",
      "Now pulling data for #118, paamiut\n",
      "Now pulling data for #119, thompson\n",
      "Now pulling data for #120, zavetnoye\n",
      "Now pulling data for #121, arraial do cabo\n",
      "Now pulling data for #122, kangaatsiaq\n",
      "unable to process #123, vaitupu\n",
      "Now pulling data for #124, aykhal\n",
      "Now pulling data for #125, tiksi\n",
      "Now pulling data for #126, tasiilaq\n",
      "Now pulling data for #127, carnarvon\n",
      "Now pulling data for #128, nikolskoye\n",
      "Now pulling data for #129, ribeira grande\n",
      "Now pulling data for #130, tommot\n",
      "Now pulling data for #131, strzelce krajenskie\n",
      "Now pulling data for #132, aleksandrovsk-sakhalinskiy\n",
      "Now pulling data for #133, ust-ilimsk\n",
      "Now pulling data for #134, tuktoyaktuk\n",
      "Now pulling data for #135, kaeo\n",
      "Now pulling data for #136, mercedes\n",
      "Now pulling data for #137, maridi\n",
      "Now pulling data for #138, nizhneudinsk\n",
      "Now pulling data for #139, shebunino\n",
      "Now pulling data for #140, port-cartier\n",
      "Now pulling data for #141, isla vista\n",
      "Now pulling data for #142, ilhabela\n",
      "Now pulling data for #143, marolambo\n",
      "Now pulling data for #144, lasa\n",
      "Now pulling data for #145, srednekolymsk\n",
      "Now pulling data for #146, glendive\n",
      "Now pulling data for #147, cootamundra\n",
      "Now pulling data for #148, faanui\n",
      "Now pulling data for #149, khandyga\n",
      "Now pulling data for #150, roald\n",
      "Now pulling data for #151, hwange\n",
      "Now pulling data for #152, saldanha\n",
      "Now pulling data for #153, ondangwa\n",
      "unable to process #154, palabuhanratu\n",
      "Now pulling data for #155, clyde river\n",
      "Now pulling data for #156, veraval\n",
      "Now pulling data for #157, redmond\n",
      "Now pulling data for #158, vila do maio\n",
      "Now pulling data for #159, cayenne\n",
      "Now pulling data for #160, belaya gora\n",
      "Now pulling data for #161, oyama\n",
      "Now pulling data for #162, hokitika\n",
      "Now pulling data for #163, faaa\n",
      "unable to process #164, dolbeau\n",
      "Now pulling data for #165, kaduqli\n",
      "Now pulling data for #166, coquimbo\n",
      "Now pulling data for #167, portland\n",
      "Now pulling data for #168, bethel\n",
      "Now pulling data for #169, kavieng\n",
      "Now pulling data for #170, karratha\n",
      "Now pulling data for #171, upernavik\n",
      "Now pulling data for #172, yamada\n",
      "Now pulling data for #173, sinnamary\n",
      "Now pulling data for #174, ramnagar\n",
      "Now pulling data for #175, ilulissat\n",
      "Now pulling data for #176, heinola\n",
      "unable to process #177, mrirt\n",
      "Now pulling data for #178, moose factory\n",
      "Now pulling data for #179, omboue\n",
      "Now pulling data for #180, suez\n",
      "Now pulling data for #181, gamba\n",
      "unable to process #182, karakendzha\n",
      "Now pulling data for #183, provideniya\n",
      "Now pulling data for #184, krasnoselkup\n",
      "unable to process #185, ijaki\n",
      "Now pulling data for #186, chebsara\n",
      "Now pulling data for #187, tromso\n",
      "Now pulling data for #188, ancud\n",
      "Now pulling data for #189, jensen beach\n",
      "Now pulling data for #190, buwenge\n",
      "Now pulling data for #191, san quintin\n",
      "Now pulling data for #192, abnub\n",
      "Now pulling data for #193, dudinka\n",
      "Now pulling data for #194, montrose\n",
      "Now pulling data for #195, airai\n",
      "Now pulling data for #196, altay\n",
      "unable to process #197, grand river south east\n",
      "Now pulling data for #198, esperance\n",
      "Now pulling data for #199, rapid valley\n",
      "Now pulling data for #200, samarai\n",
      "Now pulling data for #201, la asuncion\n",
      "Now pulling data for #202, chapais\n",
      "unable to process #203, bargal\n",
      "Now pulling data for #204, rosetta\n",
      "Now pulling data for #205, bredasdorp\n",
      "Now pulling data for #206, san cristobal\n",
      "Now pulling data for #207, faya\n",
      "Now pulling data for #208, cidreira\n",
      "Now pulling data for #209, vysotsk\n",
      "Now pulling data for #210, husavik\n",
      "unable to process #211, laiagam\n",
      "Now pulling data for #212, toamasina\n",
      "Now pulling data for #213, micheweni\n",
      "Now pulling data for #214, fortuna\n",
      "Now pulling data for #215, desaguadero\n",
      "Now pulling data for #216, pevek\n",
      "Now pulling data for #217, hambantota\n",
      "Now pulling data for #218, borogontsy\n",
      "Now pulling data for #219, puerto ayora\n",
      "Now pulling data for #220, mount isa\n",
      "Now pulling data for #221, sebastian\n",
      "Now pulling data for #222, sistranda\n",
      "Now pulling data for #223, ust-maya\n",
      "Now pulling data for #224, pacifica\n",
      "Now pulling data for #225, maymyo\n",
      "Now pulling data for #226, dingle\n",
      "Now pulling data for #227, aitape\n",
      "unable to process #228, tsihombe\n",
      "Now pulling data for #229, krivosheino\n"
     ]
    },
    {
     "name": "stdout",
     "output_type": "stream",
     "text": [
      "Now pulling data for #230, hay river\n",
      "unable to process #231, barentsburg\n",
      "Now pulling data for #232, campbell river\n",
      "Now pulling data for #233, casa grande\n",
      "Now pulling data for #234, xuanzhou\n",
      "Now pulling data for #235, sept-iles\n",
      "Now pulling data for #236, mut\n",
      "Now pulling data for #237, souillac\n",
      "Now pulling data for #238, pangnirtung\n",
      "Now pulling data for #239, jining\n",
      "Now pulling data for #240, queanbeyan\n",
      "Now pulling data for #241, saint george\n",
      "Now pulling data for #242, coos bay\n",
      "Now pulling data for #243, yumen\n",
      "Now pulling data for #244, tari\n",
      "Now pulling data for #245, bambanglipuro\n",
      "Now pulling data for #246, atambua\n",
      "Now pulling data for #247, fairbanks\n",
      "Now pulling data for #248, aleksandrovka\n",
      "Now pulling data for #249, middelburg\n",
      "Now pulling data for #250, vitim\n",
      "Now pulling data for #251, barcelos\n",
      "unable to process #252, tumannyy\n",
      "Now pulling data for #253, san patricio\n",
      "Now pulling data for #254, katsuura\n",
      "Now pulling data for #255, bathsheba\n",
      "Now pulling data for #256, roma\n",
      "Now pulling data for #257, springfield\n",
      "unable to process #258, muzquiz\n",
      "Now pulling data for #259, newnan\n",
      "Now pulling data for #260, saint-francois\n",
      "Now pulling data for #261, petropavlovsk-kamchatskiy\n",
      "unable to process #262, scottsburgh\n",
      "Now pulling data for #263, flagstaff\n",
      "Now pulling data for #264, havelock\n",
      "Now pulling data for #265, zheleznodorozhnyy\n",
      "Now pulling data for #266, vermilion\n",
      "Now pulling data for #267, cherskiy\n",
      "Now pulling data for #268, miri\n",
      "Now pulling data for #269, basugaon\n",
      "unable to process #270, achisay\n",
      "Now pulling data for #271, norman wells\n",
      "Now pulling data for #272, haines junction\n",
      "Now pulling data for #273, kandalaksha\n",
      "Now pulling data for #274, abashiri\n",
      "Now pulling data for #275, honjo\n",
      "Now pulling data for #276, kavaratti\n",
      "Now pulling data for #277, chalmette\n",
      "Now pulling data for #278, touros\n",
      "Now pulling data for #279, bowen\n",
      "Now pulling data for #280, prince rupert\n",
      "Now pulling data for #281, hobyo\n",
      "Now pulling data for #282, teya\n",
      "Now pulling data for #283, lompoc\n",
      "Now pulling data for #284, funadhoo\n",
      "Now pulling data for #285, nautla\n",
      "unable to process #286, mentok\n",
      "Now pulling data for #287, avarua\n",
      "Now pulling data for #288, aberdeen\n",
      "Now pulling data for #289, wageningen\n",
      "Now pulling data for #290, ambilobe\n",
      "Now pulling data for #291, saskylakh\n",
      "unable to process #292, ruian\n",
      "Now pulling data for #293, kruisfontein\n",
      "Now pulling data for #294, kaitangata\n",
      "Now pulling data for #295, vila velha\n",
      "Now pulling data for #296, skibbereen\n",
      "Now pulling data for #297, ust-tsilma\n",
      "Now pulling data for #298, luwuk\n",
      "Now pulling data for #299, bonavista\n",
      "Now pulling data for #300, geraldton\n",
      "unable to process #301, yomitan\n",
      "Now pulling data for #302, khor\n",
      "Now pulling data for #303, meiningen\n",
      "Now pulling data for #304, lodja\n",
      "Now pulling data for #305, port blair\n",
      "Now pulling data for #306, lerwick\n",
      "Now pulling data for #307, rocha\n",
      "Now pulling data for #308, lorengau\n",
      "Now pulling data for #309, college\n",
      "Now pulling data for #310, bilma\n",
      "Now pulling data for #311, montepuez\n",
      "Now pulling data for #312, dharchula\n",
      "Now pulling data for #313, kitimat\n",
      "Now pulling data for #314, puerto del rosario\n",
      "Now pulling data for #315, wahiawa\n",
      "Now pulling data for #316, meulaboh\n",
      "unable to process #317, samusu\n",
      "Now pulling data for #318, manokwari\n",
      "Now pulling data for #319, viljoenskroon\n",
      "Now pulling data for #320, whitehorse\n",
      "Now pulling data for #321, bowmore\n",
      "Now pulling data for #322, waingapu\n",
      "Now pulling data for #323, kurilsk\n",
      "Now pulling data for #324, port hardy\n",
      "Now pulling data for #325, iqaluit\n",
      "Now pulling data for #326, tateyama\n",
      "Now pulling data for #327, waitati\n",
      "unable to process #328, attawapiskat\n",
      "Now pulling data for #329, itoman\n",
      "Now pulling data for #330, luderitz\n",
      "Now pulling data for #331, gusau\n",
      "Now pulling data for #332, wewak\n",
      "Now pulling data for #333, joshimath\n",
      "Now pulling data for #334, bandarbeyla\n",
      "Now pulling data for #335, placido de castro\n",
      "Now pulling data for #336, sterling\n",
      "Now pulling data for #337, naze\n",
      "Now pulling data for #338, carmen\n",
      "Now pulling data for #339, asfi\n",
      "Now pulling data for #340, mantua\n",
      "Now pulling data for #341, callaway\n",
      "Now pulling data for #342, lima\n",
      "Now pulling data for #343, hami\n",
      "Now pulling data for #344, ola\n",
      "Now pulling data for #345, dondo\n",
      "Now pulling data for #346, tutoia\n",
      "Now pulling data for #347, palmeira das missoes\n",
      "Now pulling data for #348, hualmay\n",
      "Now pulling data for #349, constitucion\n",
      "Now pulling data for #350, yar-sale\n",
      "Now pulling data for #351, waiuku\n",
      "Now pulling data for #352, santa maria\n",
      "unable to process #353, tidore\n",
      "Now pulling data for #354, jinchang\n",
      "Now pulling data for #355, pangody\n",
      "Now pulling data for #356, marawi\n",
      "Now pulling data for #357, severo-kurilsk\n",
      "Now pulling data for #358, cortes\n",
      "Now pulling data for #359, yzeure\n",
      "Now pulling data for #360, ahuimanu\n",
      "Now pulling data for #361, the valley\n",
      "Now pulling data for #362, kloulklubed\n",
      "Now pulling data for #363, el paso\n",
      "Now pulling data for #364, pak phanang\n",
      "Now pulling data for #365, adeje\n",
      "Now pulling data for #366, benguela\n",
      "Now pulling data for #367, kutum\n",
      "unable to process #368, jubayl\n",
      "Now pulling data for #369, skjervoy\n",
      "Now pulling data for #370, lalganj\n",
      "Now pulling data for #371, batemans bay\n",
      "Now pulling data for #372, pisco\n",
      "Now pulling data for #373, skhisma\n",
      "Now pulling data for #374, naifaru\n",
      "Now pulling data for #375, naryan-mar\n",
      "Now pulling data for #376, ransang\n",
      "Now pulling data for #377, guerrero negro\n",
      "Now pulling data for #378, buraydah\n",
      "Now pulling data for #379, ridgecrest\n",
      "Now pulling data for #380, caluquembe\n",
      "Now pulling data for #381, namibe\n",
      "Now pulling data for #382, lata\n",
      "Now pulling data for #383, shimoda\n",
      "Now pulling data for #384, mulege\n",
      "Now pulling data for #385, barra do garcas\n",
      "Now pulling data for #386, kholm-zhirkovskiy\n",
      "Now pulling data for #387, penzance\n",
      "Now pulling data for #388, storforshei\n",
      "Now pulling data for #389, craig\n",
      "Now pulling data for #390, ordynskoye\n",
      "Now pulling data for #391, sindor\n",
      "Now pulling data for #392, urumqi\n",
      "Now pulling data for #393, olinda\n",
      "Now pulling data for #394, washougal\n",
      "Now pulling data for #395, korla\n",
      "Now pulling data for #396, tulun\n",
      "Now pulling data for #397, gushikawa\n",
      "Now pulling data for #398, klaksvik\n",
      "Now pulling data for #399, kasane\n",
      "Now pulling data for #400, clarence town\n",
      "Now pulling data for #401, hirara\n",
      "Now pulling data for #402, inuvik\n",
      "Now pulling data for #403, mayo\n",
      "Now pulling data for #404, ostrovnoy\n",
      "Now pulling data for #405, merauke\n",
      "Now pulling data for #406, zhengjiatun\n",
      "Now pulling data for #407, sioux lookout\n",
      "Now pulling data for #408, mareeba\n",
      "Now pulling data for #409, tautira\n",
      "Now pulling data for #410, wazirganj\n",
      "Now pulling data for #411, loviisa\n",
      "Now pulling data for #412, le port\n",
      "Now pulling data for #413, lavrentiya\n",
      "Now pulling data for #414, gat\n",
      "Now pulling data for #415, nanakuli\n",
      "Now pulling data for #416, yerbogachen\n",
      "Now pulling data for #417, thinadhoo\n",
      "Now pulling data for #418, massakory\n",
      "Now pulling data for #419, okhotsk\n",
      "Now pulling data for #420, san andres\n",
      "Now pulling data for #421, richards bay\n",
      "Now pulling data for #422, hrodna\n",
      "Now pulling data for #423, matay\n",
      "Now pulling data for #424, panjab\n",
      "Now pulling data for #425, sisimiut\n",
      "Now pulling data for #426, kamaishi\n",
      "Now pulling data for #427, lagoa\n",
      "Now pulling data for #428, candolim\n",
      "unable to process #429, skalistyy\n",
      "Now pulling data for #430, verkhnevilyuysk\n",
      "Now pulling data for #431, baijiantan\n",
      "Now pulling data for #432, dossor\n",
      "Now pulling data for #433, hit\n",
      "Now pulling data for #434, cururupu\n",
      "Now pulling data for #435, evensk\n",
      "Now pulling data for #436, beringovskiy\n",
      "Now pulling data for #437, otofuke\n",
      "Now pulling data for #438, los aquijes\n",
      "Now pulling data for #439, los llanos de aridane\n",
      "Now pulling data for #440, auki\n",
      "Now pulling data for #441, qui nhon\n",
      "Now pulling data for #442, zaysan\n",
      "Now pulling data for #443, wharton\n",
      "Now pulling data for #444, pangai\n",
      "unable to process #445, yeletskiy\n",
      "Now pulling data for #446, mokrous\n",
      "Now pulling data for #447, esfahan\n",
      "Now pulling data for #448, dhidhdhoo\n",
      "Now pulling data for #449, leshukonskoye\n",
      "Now pulling data for #450, ixtapa\n",
      "Now pulling data for #451, ilinskiy\n",
      "Now pulling data for #452, lewistown\n",
      "Now pulling data for #453, havoysund\n",
      "Now pulling data for #454, oda\n",
      "Now pulling data for #455, olenino\n",
      "Now pulling data for #456, luanda\n"
     ]
    },
    {
     "name": "stdout",
     "output_type": "stream",
     "text": [
      "Now pulling data for #457, aripuana\n",
      "Now pulling data for #458, pokrovsk\n",
      "Now pulling data for #459, sambava\n",
      "Now pulling data for #460, baykit\n",
      "Now pulling data for #461, wanning\n",
      "Now pulling data for #462, chumikan\n",
      "Now pulling data for #463, krasnaya gora\n",
      "Now pulling data for #464, puerto escondido\n",
      "Now pulling data for #465, talakan\n",
      "Now pulling data for #466, murray bridge\n",
      "Now pulling data for #467, terrace\n",
      "Now pulling data for #468, northam\n",
      "Now pulling data for #469, mackay\n",
      "Now pulling data for #470, tiznit\n",
      "Now pulling data for #471, comodoro rivadavia\n",
      "Now pulling data for #472, pacific grove\n",
      "unable to process #473, nizhneyansk\n",
      "Now pulling data for #474, rundu\n",
      "Now pulling data for #475, severo-yeniseyskiy\n",
      "Now pulling data for #476, zhangjiakou\n",
      "Now pulling data for #477, kashary\n",
      "Now pulling data for #478, kiskunmajsa\n",
      "unable to process #479, hihifo\n",
      "unable to process #480, ji-parana\n",
      "Now pulling data for #481, sorong\n",
      "Now pulling data for #482, aykino\n",
      "Now pulling data for #483, fethiye\n",
      "Now pulling data for #484, bonfim\n",
      "Now pulling data for #485, benghazi\n",
      "Now pulling data for #486, golkoy\n",
      "Now pulling data for #487, kenai\n",
      "Now pulling data for #488, dandong\n",
      "Now pulling data for #489, pabellon de arteaga\n",
      "Now pulling data for #490, harsud\n",
      "Now pulling data for #491, wajir\n",
      "Now pulling data for #492, nouakchott\n",
      "Now pulling data for #493, ayagoz\n",
      "unable to process #494, louisbourg\n",
      "Now pulling data for #495, adrar\n",
      "unable to process #496, hunza\n",
      "Now pulling data for #497, mount gambier\n",
      "Now pulling data for #498, birao\n",
      "Now pulling data for #499, berdigestyakh\n",
      "unable to process #500, saint-die\n",
      "Now pulling data for #501, knezica\n",
      "Now pulling data for #502, berlevag\n",
      "Now pulling data for #503, maua\n",
      "Now pulling data for #504, asmara\n",
      "Now pulling data for #505, vila franca do campo\n",
      "unable to process #506, rungata\n",
      "Now pulling data for #507, tonj\n",
      "Now pulling data for #508, fort nelson\n",
      "Now pulling data for #509, bontang\n",
      "Now pulling data for #510, tilichiki\n",
      "Now pulling data for #511, quatre cocos\n",
      "Now pulling data for #512, kitgum\n",
      "unable to process #513, phan rang\n",
      "Now pulling data for #514, alice springs\n",
      "Now pulling data for #515, chulman\n",
      "Now pulling data for #516, labuhan\n",
      "Now pulling data for #517, kasongo-lunda\n",
      "Now pulling data for #518, sao miguel do araguaia\n",
      "Now pulling data for #519, buala\n",
      "Now pulling data for #520, pran buri\n",
      "Now pulling data for #521, vredendal\n",
      "Now pulling data for #522, jiazi\n",
      "Now pulling data for #523, ajdabiya\n",
      "Now pulling data for #524, mangaluru\n",
      "Now pulling data for #525, mezen\n",
      "unable to process #526, makung\n",
      "Now pulling data for #527, akonolinga\n",
      "Now pulling data for #528, lucapa\n",
      "Now pulling data for #529, belyy yar\n",
      "Now pulling data for #530, campoverde\n",
      "Now pulling data for #531, siano\n",
      "Now pulling data for #532, ghatal\n",
      "Now pulling data for #533, olafsvik\n",
      "unable to process #534, maykain\n",
      "Now pulling data for #535, gogrial\n",
      "unable to process #536, tabialan\n",
      "Now pulling data for #537, makakilo city\n",
      "Now pulling data for #538, tvoroyri\n",
      "Now pulling data for #539, mildura\n",
      "Now pulling data for #540, stephenville\n",
      "Now pulling data for #541, linares\n",
      "Now pulling data for #542, tual\n",
      "Now pulling data for #543, vardo\n",
      "Now pulling data for #544, nyrob\n",
      "Now pulling data for #545, aransas pass\n",
      "Now pulling data for #546, vestmannaeyjar\n",
      "Now pulling data for #547, colares\n",
      "Now pulling data for #548, bubaque\n",
      "Now pulling data for #549, protivin\n",
      "Now pulling data for #550, kudahuvadhoo\n",
      "Now pulling data for #551, eureka\n",
      "Now pulling data for #552, latung\n",
      "Now pulling data for #553, eregli\n",
      "Now pulling data for #554, puerto madryn\n",
      "Now pulling data for #555, santa rita\n",
      "Now pulling data for #556, zhigansk\n",
      "Now pulling data for #557, beyneu\n",
      "Now pulling data for #558, itarema\n",
      "Now pulling data for #559, homer\n",
      "Now pulling data for #560, hofn\n",
      "Now pulling data for #561, sola\n",
      "Now pulling data for #562, lilongwe\n",
      "unable to process #563, halalo\n",
      "Now pulling data for #564, oranjemund\n",
      "Now pulling data for #565, pinawa\n",
      "Now pulling data for #566, sao filipe\n",
      "Now pulling data for #567, ketchikan\n",
      "Now pulling data for #568, moroni\n",
      "Now pulling data for #569, severnoye\n",
      "Now pulling data for #570, erzin\n",
      "Now pulling data for #571, baturaja\n",
      "Now pulling data for #572, fabriano\n",
      "Now pulling data for #573, asau\n",
      "unable to process #574, sedelnikovo\n",
      "Now pulling data for #575, mangrol\n",
      "Now pulling data for #576, santa cruz de la palma\n",
      "Now pulling data for #577, irara\n",
      "Now pulling data for #578, yulara\n",
      "Now pulling data for #579, daru\n",
      "Now pulling data for #580, ouesso\n",
      "Now pulling data for #581, helong\n",
      "Now pulling data for #582, novoilinsk\n",
      "Now pulling data for #583, bodden town\n",
      "Now pulling data for #584, cicero dantas\n",
      "Now pulling data for #585, ayr\n",
      "Now pulling data for #586, cotonou\n",
      "Now pulling data for #587, wasilla\n",
      "Now pulling data for #588, devils lake\n",
      "Now pulling data for #589, paita\n",
      "Now pulling data for #590, tuatapere\n",
      "Now pulling data for #591, dieppe\n",
      "Now pulling data for #592, nioro\n",
      "Now pulling data for #593, slave lake\n",
      "Now pulling data for #594, san jeronimo\n",
      "Now pulling data for #595, port keats\n",
      "Now pulling data for #596, severodvinsk\n",
      "Now pulling data for #597, banjar\n",
      "Now pulling data for #598, turan\n",
      "unable to process #599, khonuu\n",
      "Now pulling data for #600, rio grande\n",
      "Now pulling data for #601, kedougou\n",
      "unable to process #602, satitoa\n",
      "Now pulling data for #603, butembo\n",
      "Now pulling data for #604, ravar\n",
      "Now pulling data for #605, maceio\n",
      "Now pulling data for #606, salvador\n",
      "Now pulling data for #607, kiri buru\n",
      "Now pulling data for #608, goderich\n",
      "Now pulling data for #609, mombetsu\n",
      "Now pulling data for #610, yajalon\n",
      "Now pulling data for #611, henties bay\n",
      "Now pulling data for #612, hatillo\n",
      "Now pulling data for #613, champerico\n",
      "Now pulling data for #614, vao\n",
      "Now pulling data for #615, tacuarembo\n",
      "unable to process #616, viligili\n",
      "Now pulling data for #617, myskhako\n",
      "Now pulling data for #618, charleston\n",
      "Now pulling data for #619, changping\n",
      "Now pulling data for #620, mandera\n",
      "Now pulling data for #621, ewa beach\n",
      "--------------------\n",
      "All finished. 572 cities had info pulled\n"
     ]
    }
   ],
   "source": [
    "#smallcities = [\"portland\",\"houston\",\"seattle\",\"new york\",\"london\",\"sydney\",\"moose factory\"]\n",
    "\n",
    "updated_cities=[]\n",
    "lat = []\n",
    "lng = []\n",
    "maxtemp = []\n",
    "humidity = []\n",
    "cloudiness = []\n",
    "windspeed = []\n",
    "country = []\n",
    "date = []\n",
    "\n",
    "url = \"http://api.openweathermap.org/data/2.5/weather?\"\n",
    "query_url = url + \"appid=\" + weather_api_key + \"&units=imperial\" + \"&q=\"\n",
    "\n",
    "#for each city in cities, grab the city, lat, lng, max temp, humidity, cloudiness,\n",
    "    #wind speed, country, date & add to DF\n",
    "row=1\n",
    "\n",
    "for city in cities:\n",
    "    response = requests.get(query_url + city).json()\n",
    "    try:\n",
    "        lat.append(response['coord']['lat'])    \n",
    "        lng.append(response['coord']['lon'])\n",
    "        maxtemp.append(response['main']['temp_max'])\n",
    "        humidity.append(response['main']['humidity'])\n",
    "        cloudiness.append(response['clouds']['all'])\n",
    "        windspeed.append(response['wind']['speed'])\n",
    "        country.append(response['sys']['country'])\n",
    "        date.append(response['dt'])\n",
    "        updated_cities.append(city)\n",
    "        print(f\"Now pulling data for #{row}, {city}\")\n",
    "    \n",
    "    except KeyError:\n",
    "        print(f\"unable to process #{row}, {city}\")\n",
    "    row = row+1\n",
    "\n",
    "print(f\"--------------------\")    \n",
    "print(f\"All finished. {len(lat)} cities had info pulled\")\n",
    "\n",
    "\n",
    "\n",
    "    \n",
    "    \n",
    "\n"
   ]
  },
  {
   "cell_type": "code",
   "execution_count": 37,
   "metadata": {},
   "outputs": [
    {
     "data": {
      "text/plain": [
       "572"
      ]
     },
     "execution_count": 37,
     "metadata": {},
     "output_type": "execute_result"
    }
   ],
   "source": [
    "len(lat)"
   ]
  },
  {
   "cell_type": "markdown",
   "metadata": {},
   "source": [
    "### Convert Raw Data to DataFrame\n",
    "* Export the city data into a .csv.\n",
    "* Display the DataFrame"
   ]
  },
  {
   "cell_type": "code",
   "execution_count": 38,
   "metadata": {},
   "outputs": [
    {
     "data": {
      "text/html": [
       "<div>\n",
       "<style scoped>\n",
       "    .dataframe tbody tr th:only-of-type {\n",
       "        vertical-align: middle;\n",
       "    }\n",
       "\n",
       "    .dataframe tbody tr th {\n",
       "        vertical-align: top;\n",
       "    }\n",
       "\n",
       "    .dataframe thead th {\n",
       "        text-align: right;\n",
       "    }\n",
       "</style>\n",
       "<table border=\"1\" class=\"dataframe\">\n",
       "  <thead>\n",
       "    <tr style=\"text-align: right;\">\n",
       "      <th></th>\n",
       "      <th>city</th>\n",
       "      <th>lat</th>\n",
       "      <th>lng</th>\n",
       "      <th>max temp(f)</th>\n",
       "      <th>humidity(%)</th>\n",
       "      <th>cloudiness(%)</th>\n",
       "      <th>wind speed(mph)</th>\n",
       "      <th>country</th>\n",
       "      <th>date</th>\n",
       "    </tr>\n",
       "  </thead>\n",
       "  <tbody>\n",
       "    <tr>\n",
       "      <th>0</th>\n",
       "      <td>torbay</td>\n",
       "      <td>47.67</td>\n",
       "      <td>-52.73</td>\n",
       "      <td>59.00</td>\n",
       "      <td>100</td>\n",
       "      <td>90</td>\n",
       "      <td>35.57</td>\n",
       "      <td>CA</td>\n",
       "      <td>1604366352</td>\n",
       "    </tr>\n",
       "    <tr>\n",
       "      <th>1</th>\n",
       "      <td>nacogdoches</td>\n",
       "      <td>31.60</td>\n",
       "      <td>-94.63</td>\n",
       "      <td>55.40</td>\n",
       "      <td>62</td>\n",
       "      <td>1</td>\n",
       "      <td>2.89</td>\n",
       "      <td>US</td>\n",
       "      <td>1604366352</td>\n",
       "    </tr>\n",
       "    <tr>\n",
       "      <th>2</th>\n",
       "      <td>boshnyakovo</td>\n",
       "      <td>49.63</td>\n",
       "      <td>142.17</td>\n",
       "      <td>34.23</td>\n",
       "      <td>85</td>\n",
       "      <td>100</td>\n",
       "      <td>11.27</td>\n",
       "      <td>RU</td>\n",
       "      <td>1604366352</td>\n",
       "    </tr>\n",
       "    <tr>\n",
       "      <th>3</th>\n",
       "      <td>kresttsy</td>\n",
       "      <td>58.25</td>\n",
       "      <td>32.52</td>\n",
       "      <td>44.11</td>\n",
       "      <td>88</td>\n",
       "      <td>100</td>\n",
       "      <td>10.63</td>\n",
       "      <td>RU</td>\n",
       "      <td>1604366353</td>\n",
       "    </tr>\n",
       "    <tr>\n",
       "      <th>4</th>\n",
       "      <td>barrow</td>\n",
       "      <td>71.29</td>\n",
       "      <td>-156.79</td>\n",
       "      <td>28.40</td>\n",
       "      <td>68</td>\n",
       "      <td>90</td>\n",
       "      <td>21.92</td>\n",
       "      <td>US</td>\n",
       "      <td>1604366120</td>\n",
       "    </tr>\n",
       "  </tbody>\n",
       "</table>\n",
       "</div>"
      ],
      "text/plain": [
       "          city    lat     lng  max temp(f)  humidity(%)  cloudiness(%)  \\\n",
       "0       torbay  47.67  -52.73        59.00          100             90   \n",
       "1  nacogdoches  31.60  -94.63        55.40           62              1   \n",
       "2  boshnyakovo  49.63  142.17        34.23           85            100   \n",
       "3     kresttsy  58.25   32.52        44.11           88            100   \n",
       "4       barrow  71.29 -156.79        28.40           68             90   \n",
       "\n",
       "   wind speed(mph) country        date  \n",
       "0            35.57      CA  1604366352  \n",
       "1             2.89      US  1604366352  \n",
       "2            11.27      RU  1604366352  \n",
       "3            10.63      RU  1604366353  \n",
       "4            21.92      US  1604366120  "
      ]
     },
     "execution_count": 38,
     "metadata": {},
     "output_type": "execute_result"
    }
   ],
   "source": [
    "city_dict = {\"city\":updated_cities,\n",
    "                 \"lat\":lat,\n",
    "                 \"lng\":lng,\n",
    "                 \"max temp(f)\":maxtemp,\n",
    "                 \"humidity(%)\":humidity,\n",
    "                 \"cloudiness(%)\":cloudiness,\n",
    "                 \"wind speed(mph)\":windspeed,\n",
    "                 \"country\":country,\n",
    "                 \"date\":date}\n",
    "\n",
    "cities_df=pd.DataFrame(city_dict)\n",
    "cities_df.to_csv('../Resources/Cities.csv')\n",
    "cities_df.head()"
   ]
  },
  {
   "cell_type": "code",
   "execution_count": 39,
   "metadata": {},
   "outputs": [
    {
     "data": {
      "text/html": [
       "<div>\n",
       "<style scoped>\n",
       "    .dataframe tbody tr th:only-of-type {\n",
       "        vertical-align: middle;\n",
       "    }\n",
       "\n",
       "    .dataframe tbody tr th {\n",
       "        vertical-align: top;\n",
       "    }\n",
       "\n",
       "    .dataframe thead th {\n",
       "        text-align: right;\n",
       "    }\n",
       "</style>\n",
       "<table border=\"1\" class=\"dataframe\">\n",
       "  <thead>\n",
       "    <tr style=\"text-align: right;\">\n",
       "      <th></th>\n",
       "      <th>lat</th>\n",
       "      <th>lng</th>\n",
       "      <th>max temp(f)</th>\n",
       "      <th>humidity(%)</th>\n",
       "      <th>cloudiness(%)</th>\n",
       "      <th>wind speed(mph)</th>\n",
       "      <th>date</th>\n",
       "    </tr>\n",
       "  </thead>\n",
       "  <tbody>\n",
       "    <tr>\n",
       "      <th>count</th>\n",
       "      <td>572.000000</td>\n",
       "      <td>572.000000</td>\n",
       "      <td>572.000000</td>\n",
       "      <td>572.000000</td>\n",
       "      <td>572.000000</td>\n",
       "      <td>572.000000</td>\n",
       "      <td>5.720000e+02</td>\n",
       "    </tr>\n",
       "    <tr>\n",
       "      <th>mean</th>\n",
       "      <td>22.223636</td>\n",
       "      <td>18.837063</td>\n",
       "      <td>56.749353</td>\n",
       "      <td>73.942308</td>\n",
       "      <td>54.973776</td>\n",
       "      <td>8.850385</td>\n",
       "      <td>1.604366e+09</td>\n",
       "    </tr>\n",
       "    <tr>\n",
       "      <th>std</th>\n",
       "      <td>33.095121</td>\n",
       "      <td>92.605172</td>\n",
       "      <td>22.817822</td>\n",
       "      <td>20.404281</td>\n",
       "      <td>41.886441</td>\n",
       "      <td>6.714721</td>\n",
       "      <td>1.135112e+02</td>\n",
       "    </tr>\n",
       "    <tr>\n",
       "      <th>min</th>\n",
       "      <td>-54.800000</td>\n",
       "      <td>-175.200000</td>\n",
       "      <td>-13.310000</td>\n",
       "      <td>1.000000</td>\n",
       "      <td>0.000000</td>\n",
       "      <td>0.220000</td>\n",
       "      <td>1.604366e+09</td>\n",
       "    </tr>\n",
       "    <tr>\n",
       "      <th>25%</th>\n",
       "      <td>-5.870000</td>\n",
       "      <td>-63.260000</td>\n",
       "      <td>42.930000</td>\n",
       "      <td>64.000000</td>\n",
       "      <td>2.000000</td>\n",
       "      <td>3.937500</td>\n",
       "      <td>1.604366e+09</td>\n",
       "    </tr>\n",
       "    <tr>\n",
       "      <th>50%</th>\n",
       "      <td>28.670000</td>\n",
       "      <td>26.315000</td>\n",
       "      <td>61.205000</td>\n",
       "      <td>80.000000</td>\n",
       "      <td>75.000000</td>\n",
       "      <td>6.960000</td>\n",
       "      <td>1.604366e+09</td>\n",
       "    </tr>\n",
       "    <tr>\n",
       "      <th>75%</th>\n",
       "      <td>50.047500</td>\n",
       "      <td>102.195000</td>\n",
       "      <td>75.212500</td>\n",
       "      <td>90.000000</td>\n",
       "      <td>99.000000</td>\n",
       "      <td>11.590000</td>\n",
       "      <td>1.604366e+09</td>\n",
       "    </tr>\n",
       "    <tr>\n",
       "      <th>max</th>\n",
       "      <td>78.220000</td>\n",
       "      <td>179.320000</td>\n",
       "      <td>98.600000</td>\n",
       "      <td>100.000000</td>\n",
       "      <td>100.000000</td>\n",
       "      <td>44.960000</td>\n",
       "      <td>1.604366e+09</td>\n",
       "    </tr>\n",
       "  </tbody>\n",
       "</table>\n",
       "</div>"
      ],
      "text/plain": [
       "              lat         lng  max temp(f)  humidity(%)  cloudiness(%)  \\\n",
       "count  572.000000  572.000000   572.000000   572.000000     572.000000   \n",
       "mean    22.223636   18.837063    56.749353    73.942308      54.973776   \n",
       "std     33.095121   92.605172    22.817822    20.404281      41.886441   \n",
       "min    -54.800000 -175.200000   -13.310000     1.000000       0.000000   \n",
       "25%     -5.870000  -63.260000    42.930000    64.000000       2.000000   \n",
       "50%     28.670000   26.315000    61.205000    80.000000      75.000000   \n",
       "75%     50.047500  102.195000    75.212500    90.000000      99.000000   \n",
       "max     78.220000  179.320000    98.600000   100.000000     100.000000   \n",
       "\n",
       "       wind speed(mph)          date  \n",
       "count       572.000000  5.720000e+02  \n",
       "mean          8.850385  1.604366e+09  \n",
       "std           6.714721  1.135112e+02  \n",
       "min           0.220000  1.604366e+09  \n",
       "25%           3.937500  1.604366e+09  \n",
       "50%           6.960000  1.604366e+09  \n",
       "75%          11.590000  1.604366e+09  \n",
       "max          44.960000  1.604366e+09  "
      ]
     },
     "execution_count": 39,
     "metadata": {},
     "output_type": "execute_result"
    }
   ],
   "source": [
    "cities_df.describe()"
   ]
  },
  {
   "cell_type": "markdown",
   "metadata": {},
   "source": [
    "## Inspect the data and remove the cities where the humidity > 100%.\n",
    "----\n",
    "Skip this step if there are no cities that have humidity > 100%. "
   ]
  },
  {
   "cell_type": "code",
   "execution_count": 40,
   "metadata": {},
   "outputs": [
    {
     "name": "stdout",
     "output_type": "stream",
     "text": [
      "all done checking humidity for 572 cities\n"
     ]
    }
   ],
   "source": [
    "for index, row in cities_df.iterrows():\n",
    "    if row[\"humidity(%)\"]>100:\n",
    "        city=row[\"city\"]\n",
    "        print(f\"{city} is too humid\")\n",
    "        \n",
    "        \n",
    "#my current data doesn't have any cities with humidity >100%\n",
    "        \n",
    "print(f\"all done checking humidity for {len(cities_df)} cities\")"
   ]
  },
  {
   "cell_type": "code",
   "execution_count": 41,
   "metadata": {},
   "outputs": [
    {
     "name": "stdout",
     "output_type": "stream",
     "text": [
      "all done checking humidity for 572 cities\n",
      "[]\n"
     ]
    }
   ],
   "source": [
    "#  Get the indices of cities that have humidity over 100%.\n",
    "too_humid = []\n",
    "for index, row in cities_df.iterrows():\n",
    "    if row[\"humidity(%)\"]>100:\n",
    "        city=row[\"city\"]\n",
    "        print(f\"{city} is too humid\")\n",
    "        too_humid.append(cities_df.loc[index])\n",
    "        \n",
    "print(f\"all done checking humidity for {len(cities_df)} cities\")\n",
    "print(too_humid)"
   ]
  },
  {
   "cell_type": "code",
   "execution_count": 42,
   "metadata": {},
   "outputs": [],
   "source": [
    "# Make a new DataFrame equal to the city data to drop all humidity outliers by index.\n",
    "# Passing \"inplace=False\" will make a copy of the city_data DataFrame, which we call \"clean_city_data\".\n",
    "\n",
    "#skipping since no cities have humidity greater than 100%. May come back later just to mess around with."
   ]
  },
  {
   "cell_type": "code",
   "execution_count": null,
   "metadata": {},
   "outputs": [],
   "source": [
    "\n"
   ]
  },
  {
   "cell_type": "markdown",
   "metadata": {},
   "source": [
    "## Plotting the Data\n",
    "* Use proper labeling of the plots using plot titles (including date of analysis) and axes labels.\n",
    "* Save the plotted figures as .pngs."
   ]
  },
  {
   "cell_type": "markdown",
   "metadata": {},
   "source": [
    "## Latitude vs. Temperature Plot"
   ]
  },
  {
   "cell_type": "code",
   "execution_count": 43,
   "metadata": {
    "scrolled": true
   },
   "outputs": [
    {
     "data": {
      "image/png": "[encoded data removed]",
      "text/plain": [
       "<Figure size 432x288 with 1 Axes>"
      ]
     },
     "metadata": {
      "needs_background": "light"
     },
     "output_type": "display_data"
    }
   ],
   "source": [
    "#Y is Max Temperature(F), X is Latitude\n",
    "#Title: City Latitude vs Max Temperature(11/02/20)\n",
    "cities_df.plot(kind=\"scatter\",x=\"lat\",y=\"max temp(f)\", grid=True,\n",
    "               title = \"City Latitude vs Max Temperature(11/02/20)\")\n",
    "\n",
    "plt.savefig(\"Images/lat_vs_maxtemp.png\")\n",
    "plt.show()"
   ]
  },
  {
   "cell_type": "markdown",
   "metadata": {},
   "source": [
    "## Latitude vs. Humidity Plot"
   ]
  },
  {
   "cell_type": "code",
   "execution_count": 44,
   "metadata": {},
   "outputs": [
    {
     "data": {
      "image/png": "[encoded data removed]",
      "text/plain": [
       "<Figure size 432x288 with 1 Axes>"
      ]
     },
     "metadata": {
      "needs_background": "light"
     },
     "output_type": "display_data"
    }
   ],
   "source": [
    "#Y is Humidity(%), X is Latitude\n",
    "#Title: City Latitude vs Humidity(11/02/20)\n",
    "cities_df.plot(kind=\"scatter\",x=\"lat\",y=\"humidity(%)\", grid=True,\n",
    "               title = \"City Latitude vs Humidity(11/02/20)\")\n",
    "\n",
    "plt.savefig(\"Images/lat_vs_humidity.png\")\n",
    "plt.show()"
   ]
  },
  {
   "cell_type": "markdown",
   "metadata": {},
   "source": [
    "## Latitude vs. Cloudiness Plot"
   ]
  },
  {
   "cell_type": "code",
   "execution_count": 45,
   "metadata": {},
   "outputs": [
    {
     "data": {
      "image/png": "[encoded data removed]",
      "text/plain": [
       "<Figure size 432x288 with 1 Axes>"
      ]
     },
     "metadata": {
      "needs_background": "light"
     },
     "output_type": "display_data"
    }
   ],
   "source": [
    "#Y is Cloudiness(%), X is Latitude\n",
    "#Title: City Latitude vs Cloudiness(11/02/20)\n",
    "cities_df.plot(kind=\"scatter\",x=\"lat\",y=\"cloudiness(%)\", grid=True,\n",
    "               title = \"City Latitude vs Humidity(11/02/20)\")\n",
    "\n",
    "plt.savefig(\"Images/lat_vs_cloudiness.png\")\n",
    "plt.show()"
   ]
  },
  {
   "cell_type": "markdown",
   "metadata": {},
   "source": [
    "## Latitude vs. Wind Speed Plot"
   ]
  },
  {
   "cell_type": "code",
   "execution_count": 46,
   "metadata": {},
   "outputs": [
    {
     "data": {
      "image/png": "[encoded data removed]",
      "text/plain": [
       "<Figure size 432x288 with 1 Axes>"
      ]
     },
     "metadata": {
      "needs_background": "light"
     },
     "output_type": "display_data"
    }
   ],
   "source": [
    "#Y is Wind Speed(mph), X is Latitude\n",
    "#Title: City Latitude vs Wind Speed(11/02/20)\n",
    "cities_df.plot(kind=\"scatter\",x=\"lat\",y=\"wind speed(mph)\", grid=True,\n",
    "               title = \"City Latitude vs Humidity(11/02/20)\")\n",
    "\n",
    "plt.savefig(\"Images/lat_vs_windspeed.png\")\n",
    "plt.show()"
   ]
  },
  {
   "cell_type": "markdown",
   "metadata": {},
   "source": [
    "## Linear Regression"
   ]
  },
  {
   "cell_type": "code",
   "execution_count": null,
   "metadata": {},
   "outputs": [],
   "source": []
  },
  {
   "cell_type": "markdown",
   "metadata": {},
   "source": [
    "####  Northern Hemisphere - Max Temp vs. Latitude Linear Regression"
   ]
  },
  {
   "cell_type": "code",
   "execution_count": 48,
   "metadata": {},
   "outputs": [
    {
     "name": "stdout",
     "output_type": "stream",
     "text": [
      "The r-value is: -0.8472449278109959\n"
     ]
    },
    {
     "data": {
      "image/png": "[encoded data removed]",
      "text/plain": [
       "<Figure size 432x288 with 1 Axes>"
      ]
     },
     "metadata": {
      "needs_background": "light"
     },
     "output_type": "display_data"
    }
   ],
   "source": [
    "#Y is Max Temp, X is Latitude >=0\n",
    "#The r-value is: rvalue\n",
    "n_hem = cities_df.loc[cities_df[\"lat\"]>=0,:]\n",
    "x_values=n_hem[\"lat\"]\n",
    "y_values=n_hem[\"max temp(f)\"]\n",
    "\n",
    "(slope, intercept, rvalue, pvalue, stderr) = linregress(x_values, y_values)\n",
    "regress_values = x_values * slope + intercept\n",
    "line_eq = \"y = \" + str(round(slope,2)) + \"x + \" + str(round(intercept,2))\n",
    "plt.scatter(x_values,y_values)\n",
    "plt.plot(x_values,regress_values,\"r-\")\n",
    "plt.annotate(line_eq,(10,10),fontsize=15,color=\"red\")\n",
    "plt.xlabel('Latitude')\n",
    "plt.ylabel('Max Temp(F)')\n",
    "print(f\"The r-value is: {rvalue}\")\n",
    "plt.savefig(\"Images/NHlat_vs_tempLR.png\")\n",
    "plt.show()"
   ]
  },
  {
   "cell_type": "markdown",
   "metadata": {},
   "source": [
    "####  Southern Hemisphere - Max Temp vs. Latitude Linear Regression"
   ]
  },
  {
   "cell_type": "code",
   "execution_count": 50,
   "metadata": {},
   "outputs": [
    {
     "name": "stdout",
     "output_type": "stream",
     "text": [
      "The r-value is: 0.515988008972533\n"
     ]
    },
    {
     "data": {
      "image/png": "[encoded data removed]",
      "text/plain": [
       "<Figure size 432x288 with 1 Axes>"
      ]
     },
     "metadata": {
      "needs_background": "light"
     },
     "output_type": "display_data"
    }
   ],
   "source": [
    "#Y is Max Temp, X is Latitude <=0\n",
    "#The r-value is: rvalue\n",
    "s_hem = cities_df.loc[cities_df[\"lat\"]<=0,:]\n",
    "x_values=s_hem[\"lat\"]\n",
    "y_values=s_hem[\"max temp(f)\"]\n",
    "\n",
    "(slope, intercept, rvalue, pvalue, stderr) = linregress(x_values, y_values)\n",
    "regress_values = x_values * slope + intercept\n",
    "line_eq = \"y = \" + str(round(slope,2)) + \"x + \" + str(round(intercept,2))\n",
    "plt.scatter(x_values,y_values)\n",
    "plt.plot(x_values,regress_values,\"r-\")\n",
    "plt.annotate(line_eq,(-50,90),fontsize=15,color=\"red\")\n",
    "plt.xlabel('Latitude')\n",
    "plt.ylabel('Max Temp(F)')\n",
    "print(f\"The r-value is: {rvalue}\")\n",
    "plt.savefig(\"Images/SHlat_vs_tempLR.png\")\n",
    "plt.show()\n"
   ]
  },
  {
   "cell_type": "markdown",
   "metadata": {},
   "source": [
    "####  Northern Hemisphere - Humidity (%) vs. Latitude Linear Regression"
   ]
  },
  {
   "cell_type": "code",
   "execution_count": 51,
   "metadata": {},
   "outputs": [
    {
     "name": "stdout",
     "output_type": "stream",
     "text": [
      "The r-value is: 0.25909390049358266\n"
     ]
    },
    {
     "data": {
      "image/png": "[encoded data removed]",
      "text/plain": [
       "<Figure size 432x288 with 1 Axes>"
      ]
     },
     "metadata": {
      "needs_background": "light"
     },
     "output_type": "display_data"
    }
   ],
   "source": [
    "x_values=n_hem[\"lat\"]\n",
    "y_values=n_hem[\"humidity(%)\"]\n",
    "\n",
    "(slope, intercept, rvalue, pvalue, stderr) = linregress(x_values, y_values)\n",
    "regress_values = x_values * slope + intercept\n",
    "line_eq = \"y = \" + str(round(slope,2)) + \"x + \" + str(round(intercept,2))\n",
    "plt.scatter(x_values,y_values)\n",
    "plt.plot(x_values,regress_values,\"r-\")\n",
    "plt.annotate(line_eq,(40,20),fontsize=15,color=\"red\")\n",
    "plt.xlabel('Latitude')\n",
    "plt.ylabel('Humidity')\n",
    "print(f\"The r-value is: {rvalue}\")\n",
    "plt.savefig(\"Images/NHlat_vs_humidityLR.png\")\n",
    "plt.show()\n"
   ]
  },
  {
   "cell_type": "markdown",
   "metadata": {},
   "source": [
    "####  Southern Hemisphere - Humidity (%) vs. Latitude Linear Regression"
   ]
  },
  {
   "cell_type": "code",
   "execution_count": 52,
   "metadata": {},
   "outputs": [
    {
     "name": "stdout",
     "output_type": "stream",
     "text": [
      "The r-value is: 0.1670447302976351\n"
     ]
    },
    {
     "data": {
      "image/png": "[encoded data removed]",
      "text/plain": [
       "<Figure size 432x288 with 1 Axes>"
      ]
     },
     "metadata": {
      "needs_background": "light"
     },
     "output_type": "display_data"
    }
   ],
   "source": [
    "x_values=s_hem[\"lat\"]\n",
    "y_values=s_hem[\"humidity(%)\"]\n",
    "\n",
    "(slope, intercept, rvalue, pvalue, stderr) = linregress(x_values, y_values)\n",
    "regress_values = x_values * slope + intercept\n",
    "line_eq = \"y = \" + str(round(slope,2)) + \"x + \" + str(round(intercept,2))\n",
    "plt.scatter(x_values,y_values)\n",
    "plt.plot(x_values,regress_values,\"r-\")\n",
    "plt.annotate(line_eq,(-55,20),fontsize=15,color=\"red\")\n",
    "plt.xlabel('Latitude')\n",
    "plt.ylabel('Humidity')\n",
    "print(f\"The r-value is: {rvalue}\")\n",
    "plt.savefig(\"Images/SHlat_vs_humidityLR.png\")\n",
    "plt.show()\n"
   ]
  },
  {
   "cell_type": "markdown",
   "metadata": {},
   "source": [
    "####  Northern Hemisphere - Cloudiness (%) vs. Latitude Linear Regression"
   ]
  },
  {
   "cell_type": "code",
   "execution_count": 53,
   "metadata": {},
   "outputs": [
    {
     "name": "stdout",
     "output_type": "stream",
     "text": [
      "The r-value is: 0.2984115260732783\n"
     ]
    },
    {
     "data": {
      "image/png": "[encoded data removed]",
      "text/plain": [
       "<Figure size 432x288 with 1 Axes>"
      ]
     },
     "metadata": {
      "needs_background": "light"
     },
     "output_type": "display_data"
    }
   ],
   "source": [
    "x_values=n_hem[\"lat\"]\n",
    "y_values=n_hem[\"cloudiness(%)\"]\n",
    "\n",
    "(slope, intercept, rvalue, pvalue, stderr) = linregress(x_values, y_values)\n",
    "regress_values = x_values * slope + intercept\n",
    "line_eq = \"y = \" + str(round(slope,2)) + \"x + \" + str(round(intercept,2))\n",
    "plt.scatter(x_values,y_values)\n",
    "plt.plot(x_values,regress_values,\"r-\")\n",
    "plt.annotate(line_eq,(20,60),fontsize=15,color=\"red\")\n",
    "plt.xlabel('Latitude')\n",
    "plt.ylabel('Cloudiness')\n",
    "print(f\"The r-value is: {rvalue}\")\n",
    "plt.savefig(\"Images/NHlat_vs_cloudinessLR.png\")\n",
    "plt.show()"
   ]
  },
  {
   "cell_type": "markdown",
   "metadata": {},
   "source": [
    "####  Southern Hemisphere - Cloudiness (%) vs. Latitude Linear Regression"
   ]
  },
  {
   "cell_type": "code",
   "execution_count": 54,
   "metadata": {},
   "outputs": [
    {
     "name": "stdout",
     "output_type": "stream",
     "text": [
      "The r-value is: 0.20766469828375725\n"
     ]
    },
    {
     "data": {
      "image/png": "[encoded data removed]",
      "text/plain": [
       "<Figure size 432x288 with 1 Axes>"
      ]
     },
     "metadata": {
      "needs_background": "light"
     },
     "output_type": "display_data"
    }
   ],
   "source": [
    "x_values=s_hem[\"lat\"]\n",
    "y_values=s_hem[\"cloudiness(%)\"]\n",
    "\n",
    "(slope, intercept, rvalue, pvalue, stderr) = linregress(x_values, y_values)\n",
    "regress_values = x_values * slope + intercept\n",
    "line_eq = \"y = \" + str(round(slope,2)) + \"x + \" + str(round(intercept,2))\n",
    "plt.scatter(x_values,y_values)\n",
    "plt.plot(x_values,regress_values,\"r-\")\n",
    "plt.annotate(line_eq,(-50,60),fontsize=15,color=\"red\")\n",
    "plt.xlabel('Latitude')\n",
    "plt.ylabel('Cloudiness')\n",
    "print(f\"The r-value is: {rvalue}\")\n",
    "plt.savefig(\"Images/SHlat_vs_cloudinessLR.png\")\n",
    "plt.show()"
   ]
  },
  {
   "cell_type": "markdown",
   "metadata": {},
   "source": [
    "####  Northern Hemisphere - Wind Speed (mph) vs. Latitude Linear Regression"
   ]
  },
  {
   "cell_type": "code",
   "execution_count": 55,
   "metadata": {},
   "outputs": [
    {
     "name": "stdout",
     "output_type": "stream",
     "text": [
      "The r-value is: 0.27006413585316236\n"
     ]
    },
    {
     "data": {
      "image/png": "[encoded data removed]",
      "text/plain": [
       "<Figure size 432x288 with 1 Axes>"
      ]
     },
     "metadata": {
      "needs_background": "light"
     },
     "output_type": "display_data"
    }
   ],
   "source": [
    "x_values=n_hem[\"lat\"]\n",
    "y_values=n_hem[\"wind speed(mph)\"]\n",
    "\n",
    "(slope, intercept, rvalue, pvalue, stderr) = linregress(x_values, y_values)\n",
    "regress_values = x_values * slope + intercept\n",
    "line_eq = \"y = \" + str(round(slope,2)) + \"x + \" + str(round(intercept,2))\n",
    "plt.scatter(x_values,y_values)\n",
    "plt.plot(x_values,regress_values,\"r-\")\n",
    "plt.annotate(line_eq,(3,17),fontsize=15,color=\"red\")\n",
    "plt.xlabel('Latitude')\n",
    "plt.ylabel('Wind Speed(mph)')\n",
    "print(f\"The r-value is: {rvalue}\")\n",
    "plt.savefig(\"Images/NHlat_vs_windspeedLR.png\")\n",
    "plt.show()"
   ]
  },
  {
   "cell_type": "markdown",
   "metadata": {},
   "source": [
    "####  Southern Hemisphere - Wind Speed (mph) vs. Latitude Linear Regression"
   ]
  },
  {
   "cell_type": "code",
   "execution_count": 56,
   "metadata": {},
   "outputs": [
    {
     "name": "stdout",
     "output_type": "stream",
     "text": [
      "The r-value is: -0.3082017127911389\n"
     ]
    },
    {
     "data": {
      "image/png": "[encoded data removed]",
      "text/plain": [
       "<Figure size 432x288 with 1 Axes>"
      ]
     },
     "metadata": {
      "needs_background": "light"
     },
     "output_type": "display_data"
    }
   ],
   "source": [
    "x_values=s_hem[\"lat\"]\n",
    "y_values=s_hem[\"wind speed(mph)\"]\n",
    "\n",
    "(slope, intercept, rvalue, pvalue, stderr) = linregress(x_values, y_values)\n",
    "regress_values = x_values * slope + intercept\n",
    "line_eq = \"y = \" + str(round(slope,2)) + \"x + \" + str(round(intercept,2))\n",
    "plt.scatter(x_values,y_values)\n",
    "plt.plot(x_values,regress_values,\"r-\")\n",
    "plt.annotate(line_eq,(-50,6),fontsize=15,color=\"red\")\n",
    "plt.xlabel('Latitude')\n",
    "plt.ylabel('Wind Speed(mph)')\n",
    "print(f\"The r-value is: {rvalue}\")\n",
    "plt.savefig(\"Images/SHlat_vs_windspeedLR.png\")\n",
    "plt.show()"
   ]
  },
  {
   "cell_type": "code",
   "execution_count": null,
   "metadata": {},
   "outputs": [],
   "source": []
  }
 ],
 "metadata": {
  "anaconda-cloud": {},
  "kernel_info": {
   "name": "python3"
  },
  "kernelspec": {
   "display_name": "Python 3",
   "language": "python",
   "name": "python3"
  },
  "language_info": {
   "codemirror_mode": {
    "name": "ipython",
    "version": 3
   },
   "file_extension": ".py",
   "mimetype": "text/x-python",
   "name": "python",
   "nbconvert_exporter": "python",
   "pygments_lexer": "ipython3",
   "version": "3.6.10"
  },
  "latex_envs": {
   "LaTeX_envs_menu_present": true,
   "autoclose": false,
   "autocomplete": true,
   "bibliofile": "biblio.bib",
   "cite_by": "apalike",
   "current_citInitial": 1,
   "eqLabelWithNumbers": true,
   "eqNumInitial": 1,
   "hotkeys": {
    "equation": "Ctrl-E",
    "itemize": "Ctrl-I"
   },
   "labels_anchors": false,
   "latex_user_defs": false,
   "report_style_numbering": false,
   "user_envs_cfg": false
  },
  "nteract": {
   "version": "0.12.3"
  }
 },
 "nbformat": 4,
 "nbformat_minor": 2
}
