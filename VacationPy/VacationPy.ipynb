{
 "cells": [
  {
   "cell_type": "markdown",
   "metadata": {},
   "source": [
    "# VacationPy\n",
    "----\n",
    "\n",
    "#### Note\n",
    "* Keep an eye on your API usage. Use https://developers.google.com/maps/reporting/gmp-reporting as reference for how to monitor your usage and billing.\n",
    "\n",
    "* Instructions have been included for each segment. You do not have to follow them exactly, but they are included to help you think through the steps."
   ]
  },
  {
   "cell_type": "code",
   "execution_count": 6,
   "metadata": {},
   "outputs": [],
   "source": [
    "# Dependencies and Setup\n",
    "import matplotlib.pyplot as plt\n",
    "import pandas as pd\n",
    "import numpy as np\n",
    "import requests\n",
    "import gmaps\n",
    "import os\n",
    "from pprint import pprint\n",
    "\n",
    "# Import API key\n",
    "from api_keys import g_key"
   ]
  },
  {
   "cell_type": "markdown",
   "metadata": {},
   "source": [
    "### Store Part I results into DataFrame\n",
    "* Load the csv exported in Part I to a DataFrame"
   ]
  },
  {
   "cell_type": "code",
   "execution_count": 7,
   "metadata": {},
   "outputs": [
    {
     "data": {
      "text/html": [
       "<div>\n",
       "<style scoped>\n",
       "    .dataframe tbody tr th:only-of-type {\n",
       "        vertical-align: middle;\n",
       "    }\n",
       "\n",
       "    .dataframe tbody tr th {\n",
       "        vertical-align: top;\n",
       "    }\n",
       "\n",
       "    .dataframe thead th {\n",
       "        text-align: right;\n",
       "    }\n",
       "</style>\n",
       "<table border=\"1\" class=\"dataframe\">\n",
       "  <thead>\n",
       "    <tr style=\"text-align: right;\">\n",
       "      <th></th>\n",
       "      <th>city</th>\n",
       "      <th>lat</th>\n",
       "      <th>lng</th>\n",
       "      <th>max temp(f)</th>\n",
       "      <th>humidity(%)</th>\n",
       "      <th>cloudiness(%)</th>\n",
       "      <th>wind speed(mph)</th>\n",
       "      <th>country</th>\n",
       "      <th>date</th>\n",
       "    </tr>\n",
       "  </thead>\n",
       "  <tbody>\n",
       "    <tr>\n",
       "      <th>0</th>\n",
       "      <td>gornopravdinsk</td>\n",
       "      <td>60.05</td>\n",
       "      <td>69.90</td>\n",
       "      <td>268.76</td>\n",
       "      <td>98</td>\n",
       "      <td>93</td>\n",
       "      <td>2.34</td>\n",
       "      <td>RU</td>\n",
       "      <td>1604356382</td>\n",
       "    </tr>\n",
       "    <tr>\n",
       "      <th>1</th>\n",
       "      <td>east london</td>\n",
       "      <td>-33.02</td>\n",
       "      <td>27.91</td>\n",
       "      <td>292.55</td>\n",
       "      <td>84</td>\n",
       "      <td>69</td>\n",
       "      <td>6.07</td>\n",
       "      <td>ZA</td>\n",
       "      <td>1604356382</td>\n",
       "    </tr>\n",
       "    <tr>\n",
       "      <th>2</th>\n",
       "      <td>alta floresta</td>\n",
       "      <td>-9.88</td>\n",
       "      <td>-56.09</td>\n",
       "      <td>295.88</td>\n",
       "      <td>91</td>\n",
       "      <td>100</td>\n",
       "      <td>0.88</td>\n",
       "      <td>BR</td>\n",
       "      <td>1604356383</td>\n",
       "    </tr>\n",
       "    <tr>\n",
       "      <th>3</th>\n",
       "      <td>severobaykalsk</td>\n",
       "      <td>55.65</td>\n",
       "      <td>109.32</td>\n",
       "      <td>265.45</td>\n",
       "      <td>88</td>\n",
       "      <td>100</td>\n",
       "      <td>0.83</td>\n",
       "      <td>RU</td>\n",
       "      <td>1604356383</td>\n",
       "    </tr>\n",
       "    <tr>\n",
       "      <th>4</th>\n",
       "      <td>port elizabeth</td>\n",
       "      <td>-33.92</td>\n",
       "      <td>25.57</td>\n",
       "      <td>291.15</td>\n",
       "      <td>88</td>\n",
       "      <td>0</td>\n",
       "      <td>7.20</td>\n",
       "      <td>ZA</td>\n",
       "      <td>1604356383</td>\n",
       "    </tr>\n",
       "  </tbody>\n",
       "</table>\n",
       "</div>"
      ],
      "text/plain": [
       "             city    lat     lng  max temp(f)  humidity(%)  cloudiness(%)  \\\n",
       "0  gornopravdinsk  60.05   69.90       268.76           98             93   \n",
       "1     east london -33.02   27.91       292.55           84             69   \n",
       "2   alta floresta  -9.88  -56.09       295.88           91            100   \n",
       "3  severobaykalsk  55.65  109.32       265.45           88            100   \n",
       "4  port elizabeth -33.92   25.57       291.15           88              0   \n",
       "\n",
       "   wind speed(mph) country        date  \n",
       "0             2.34      RU  1604356382  \n",
       "1             6.07      ZA  1604356382  \n",
       "2             0.88      BR  1604356383  \n",
       "3             0.83      RU  1604356383  \n",
       "4             7.20      ZA  1604356383  "
      ]
     },
     "execution_count": 7,
     "metadata": {},
     "output_type": "execute_result"
    }
   ],
   "source": [
    "df = pd.read_csv(\"../Resources/Cities.csv\")\n",
    "cities_df=df[[\"city\",\"lat\",\"lng\",\"max temp(f)\",\"humidity(%)\",\"cloudiness(%)\",\n",
    "              \"wind speed(mph)\", \"country\", \"date\"]]\n",
    "cities_df.head()"
   ]
  },
  {
   "cell_type": "markdown",
   "metadata": {},
   "source": [
    "### Humidity Heatmap\n",
    "* Configure gmaps.\n",
    "* Use the Lat and Lng as locations and Humidity as the weight.\n",
    "* Add Heatmap layer to map."
   ]
  },
  {
   "cell_type": "code",
   "execution_count": 8,
   "metadata": {},
   "outputs": [],
   "source": [
    "gmaps.configure(api_key=g_key)"
   ]
  },
  {
   "cell_type": "code",
   "execution_count": 9,
   "metadata": {},
   "outputs": [
    {
     "data": {
      "application/vnd.jupyter.widget-view+json": {
       "model_id": "d800144a649d46bfb660c2fad7b170bd",
       "version_major": 2,
       "version_minor": 0
      },
      "text/plain": [
       "Figure(layout=FigureLayout(height='420px'))"
      ]
     },
     "metadata": {},
     "output_type": "display_data"
    }
   ],
   "source": [
    "locations = cities_df[[\"lat\", \"lng\"]].astype(float)\n",
    "humidity = cities_df[\"humidity(%)\"].astype(float)\n",
    "# Create a poverty Heatmap layer\n",
    "fig = gmaps.figure()\n",
    "\n",
    "heat_layer = gmaps.heatmap_layer(\n",
    "    locations,\n",
    "    weights=humidity, \n",
    "    dissipating=False,\n",
    "    max_intensity=100,\n",
    "    point_radius = 1\n",
    ")\n",
    "\n",
    "fig.add_layer(heat_layer)\n",
    "\n",
    "fig"
   ]
  },
  {
   "cell_type": "markdown",
   "metadata": {},
   "source": [
    "### Create new DataFrame fitting weather criteria\n",
    "* Narrow down the cities to fit weather conditions.\n",
    "* Drop any rows will null values."
   ]
  },
  {
   "cell_type": "code",
   "execution_count": 40,
   "metadata": {},
   "outputs": [
    {
     "name": "stdout",
     "output_type": "stream",
     "text": [
      "[268.76 292.55 295.88 265.45 291.15 294.26 304.15 285.81 294.15 266.15\n",
      " 288.97 300.15 279.15 295.15 285.15 298.15 277.59 302.04 259.45 288.15\n",
      " 299.26 292.59 261.68 272.79 296.63 293.15 275.15 278.15 295.53 298.92\n",
      " 275.37 301.72 303.15 287.04 283.15 301.15 297.42 299.36 298.55 267.15\n",
      " 295.71 299.49 296.82 297.46 287.06 296.15 272.77 291.36 275.1  300.76\n",
      " 259.15 285.93 297.15 300.61 269.15 295.37 270.15 297.19 286.48 296.93\n",
      " 282.15 276.15 290.93 292.15 286.15 267.43 262.15 289.96 271.15 302.15\n",
      " 298.74 277.69 259.83 306.15 295.67 276.61 302.73 281.15 299.4  279.59\n",
      " 275.93 274.75 294.82 297.01 294.57 294.59 277.96 286.45 299.58 290.15\n",
      " 248.62 266.68 252.42 279.26 297.59 265.15 252.67 290.18 284.15 275.32\n",
      " 303.71 279.38 290.54 300.05 302.09 300.07 264.84 280.64 299.15 289.15\n",
      " 280.37 267.76 272.15 292.3  278.71 298.82 266.2  282.04 275.82 284.47\n",
      " 272.11 286.35 278.51 296.2  298.41 294.52 296.48 277.66 294.76 298.6\n",
      " 299.38 287.59 270.86 264.3  283.6  272.28 289.91 293.22 289.39 256.15\n",
      " 298.86 272.87 260.15 289.56 305.15 302.   299.45 261.43 301.21 292.6\n",
      " 289.26 252.95 294.48 302.13 280.75 300.35 277.45 302.72 298.53 258.15\n",
      " 284.69 279.46 298.84 300.   282.59 298.02 252.15 267.84 296.16 280.15\n",
      " 299.39 300.67 283.84 299.82 277.31 249.01 270.34 295.79 282.2  288.26\n",
      " 262.13 289.82 270.59 301.69 298.79 294.12 295.86 297.1  258.66 292.93\n",
      " 278.79 261.48 294.16 273.15 287.38 280.93 274.15 299.21 300.21 302.98\n",
      " 275.12 277.15 298.83 298.4  299.08 298.61 292.04 300.09 267.94 279.64\n",
      " 294.5  287.15 278.92 273.29 301.08 263.65 270.98 297.11 297.64 280.72\n",
      " 293.93 292.97 294.75 264.76 274.82 294.19 277.07 299.01 298.45 293.53\n",
      " 297.56 294.01 263.85 277.   301.51 299.77 294.05 296.02 279.82 281.48\n",
      " 261.15 301.92 297.79 287.72 287.68 301.56 299.89 293.88 300.98 293.25\n",
      " 268.89 277.21 299.17 295.19 257.6  296.44 295.56 288.51 301.02 298.01\n",
      " 278.69 299.   270.75 300.97 279.65 295.36 265.63 276.62 294.94 299.22\n",
      " 300.34 294.07 276.48 295.93 265.08 299.75 296.43 301.1  300.25 299.79\n",
      " 297.75 267.8  266.5  262.85 261.78 266.99 297.14 266.92 293.71 299.88\n",
      " 296.38 294.24 293.61 273.49 259.14 263.79 295.64 302.96 270.93 250.24\n",
      " 296.95 293.52 292.77 301.48 254.51 300.19 300.68 276.54 283.59 298.71\n",
      " 273.68 288.63 296.11 301.23 288.71 298.25 301.37 280.49 301.81 286.14\n",
      " 279.4  298.97 297.24 277.89 293.36 290.2  284.62 268.7  293.74 291.25\n",
      " 298.05 300.48 276.23 273.6  268.36 276.22 300.32 300.37 296.34]\n"
     ]
    }
   ],
   "source": [
    "ideal_df = pd.DataFrame()\n",
    "ideal_cities=[]\n",
    "\n",
    "for index, row in cities_df.iterrows():\n",
    "    if row[\"max temp(f)\"]>= 73 and row[\"max temp(f)\"]<=90 and row[\"wind speed(mph)\"]<5 and row[\"cloudiness(%)\"]==0 :\n",
    "        ideal_cities.append(row[\"city\"])\n",
    "\n",
    "len(ideal_cities)"
   ]
  },
  {
   "cell_type": "markdown",
   "metadata": {},
   "source": [
    "### Hotel Map\n",
    "* Store into variable named `hotel_df`.\n",
    "* Add a \"Hotel Name\" column to the DataFrame.\n",
    "* Set parameters to search for hotels with 5000 meters.\n",
    "* Hit the Google Places API for each city's coordinates.\n",
    "* Store the first Hotel result into the DataFrame.\n",
    "* Plot markers on top of the heatmap."
   ]
  },
  {
   "cell_type": "code",
   "execution_count": null,
   "metadata": {},
   "outputs": [],
   "source": []
  },
  {
   "cell_type": "code",
   "execution_count": null,
   "metadata": {},
   "outputs": [],
   "source": []
  },
  {
   "cell_type": "code",
   "execution_count": null,
   "metadata": {},
   "outputs": [],
   "source": [
    "# NOTE: Do not change any of the code in this cell\n",
    "\n",
    "# Using the template add the hotel marks to the heatmap\n",
    "info_box_template = \"\"\"\n",
    "<dl>\n",
    "<dt>Name</dt><dd>{Hotel Name}</dd>\n",
    "<dt>City</dt><dd>{City}</dd>\n",
    "<dt>Country</dt><dd>{Country}</dd>\n",
    "</dl>\n",
    "\"\"\"\n",
    "# Store the DataFrame Row\n",
    "# NOTE: be sure to update with your DataFrame name\n",
    "hotel_info = [info_box_template.format(**row) for index, row in hotel_df.iterrows()]\n",
    "locations = hotel_df[[\"Lat\", \"Lng\"]]"
   ]
  },
  {
   "cell_type": "code",
   "execution_count": null,
   "metadata": {},
   "outputs": [],
   "source": [
    "# Add marker layer ontop of heat map\n",
    "\n",
    "\n",
    "# Display figure\n"
   ]
  },
  {
   "cell_type": "code",
   "execution_count": null,
   "metadata": {},
   "outputs": [],
   "source": []
  }
 ],
 "metadata": {
  "kernelspec": {
   "display_name": "Python 3",
   "language": "python",
   "name": "python3"
  },
  "language_info": {
   "codemirror_mode": {
    "name": "ipython",
    "version": 3
   },
   "file_extension": ".py",
   "mimetype": "text/x-python",
   "name": "python",
   "nbconvert_exporter": "python",
   "pygments_lexer": "ipython3",
   "version": "3.6.10"
  },
  "latex_envs": {
   "LaTeX_envs_menu_present": true,
   "autoclose": false,
   "autocomplete": true,
   "bibliofile": "biblio.bib",
   "cite_by": "apalike",
   "current_citInitial": 1,
   "eqLabelWithNumbers": true,
   "eqNumInitial": 1,
   "hotkeys": {
    "equation": "Ctrl-E",
    "itemize": "Ctrl-I"
   },
   "labels_anchors": false,
   "latex_user_defs": false,
   "report_style_numbering": false,
   "user_envs_cfg": false
  }
 },
 "nbformat": 4,
 "nbformat_minor": 4
}
